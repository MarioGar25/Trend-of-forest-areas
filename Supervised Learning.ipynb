{
 "cells": [
  {
   "cell_type": "markdown",
   "metadata": {
    "toc": true
   },
   "source": [
    "<h1>Table of Contents<span class=\"tocSkip\"></span></h1>\n",
    "<div class=\"toc\"><ul class=\"toc-item\"><li><span><a href=\"#Supervised-Learning\" data-toc-modified-id=\"Supervised-Learning-1\"><span class=\"toc-item-num\">1&nbsp;&nbsp;</span>Supervised Learning</a></span><ul class=\"toc-item\"><li><span><a href=\"#Mediterranean-Climate\" data-toc-modified-id=\"Mediterranean-Climate-1.1\"><span class=\"toc-item-num\">1.1&nbsp;&nbsp;</span>Mediterranean Climate</a></span><ul class=\"toc-item\"><li><span><a href=\"#Preparing-Data\" data-toc-modified-id=\"Preparing-Data-1.1.1\"><span class=\"toc-item-num\">1.1.1&nbsp;&nbsp;</span>Preparing Data</a></span></li><li><span><a href=\"#Random-Forest---First-Approach\" data-toc-modified-id=\"Random-Forest---First-Approach-1.1.2\"><span class=\"toc-item-num\">1.1.2&nbsp;&nbsp;</span>Random Forest - First Approach</a></span></li><li><span><a href=\"#RandomForest-with-selected-hyperparameters\" data-toc-modified-id=\"RandomForest-with-selected-hyperparameters-1.1.3\"><span class=\"toc-item-num\">1.1.3&nbsp;&nbsp;</span>RandomForest with selected hyperparameters</a></span><ul class=\"toc-item\"><li><span><a href=\"#Selecting-Grid\" data-toc-modified-id=\"Selecting-Grid-1.1.3.1\"><span class=\"toc-item-num\">1.1.3.1&nbsp;&nbsp;</span>Selecting Grid</a></span></li><li><span><a href=\"#RandomForest-with-selected-hyperparameters\" data-toc-modified-id=\"RandomForest-with-selected-hyperparameters-1.1.3.2\"><span class=\"toc-item-num\">1.1.3.2&nbsp;&nbsp;</span>RandomForest with selected hyperparameters</a></span></li></ul></li><li><span><a href=\"#GradientBoosting\" data-toc-modified-id=\"GradientBoosting-1.1.4\"><span class=\"toc-item-num\">1.1.4&nbsp;&nbsp;</span>GradientBoosting</a></span></li></ul></li><li><span><a href=\"#Atlantic-Climate\" data-toc-modified-id=\"Atlantic-Climate-1.2\"><span class=\"toc-item-num\">1.2&nbsp;&nbsp;</span>Atlantic Climate</a></span><ul class=\"toc-item\"><li><span><a href=\"#Preparing-Data\" data-toc-modified-id=\"Preparing-Data-1.2.1\"><span class=\"toc-item-num\">1.2.1&nbsp;&nbsp;</span>Preparing Data</a></span></li><li><span><a href=\"#First-Approach\" data-toc-modified-id=\"First-Approach-1.2.2\"><span class=\"toc-item-num\">1.2.2&nbsp;&nbsp;</span>First Approach</a></span></li><li><span><a href=\"#RandomForest-with-Selected-Hiperparameters\" data-toc-modified-id=\"RandomForest-with-Selected-Hiperparameters-1.2.3\"><span class=\"toc-item-num\">1.2.3&nbsp;&nbsp;</span>RandomForest with Selected Hiperparameters</a></span></li><li><span><a href=\"#GradientBoosting\" data-toc-modified-id=\"GradientBoosting-1.2.4\"><span class=\"toc-item-num\">1.2.4&nbsp;&nbsp;</span>GradientBoosting</a></span></li></ul></li><li><span><a href=\"#Alpine-Climate\" data-toc-modified-id=\"Alpine-Climate-1.3\"><span class=\"toc-item-num\">1.3&nbsp;&nbsp;</span>Alpine Climate</a></span><ul class=\"toc-item\"><li><span><a href=\"#Preparing-Data\" data-toc-modified-id=\"Preparing-Data-1.3.1\"><span class=\"toc-item-num\">1.3.1&nbsp;&nbsp;</span>Preparing Data</a></span></li><li><span><a href=\"#First-Approach\" data-toc-modified-id=\"First-Approach-1.3.2\"><span class=\"toc-item-num\">1.3.2&nbsp;&nbsp;</span>First Approach</a></span></li><li><span><a href=\"#RandomForest-with-Selected-Hiperparameters\" data-toc-modified-id=\"RandomForest-with-Selected-Hiperparameters-1.3.3\"><span class=\"toc-item-num\">1.3.3&nbsp;&nbsp;</span>RandomForest with Selected Hiperparameters</a></span></li><li><span><a href=\"#Gradient-Boosting-Classifier\" data-toc-modified-id=\"Gradient-Boosting-Classifier-1.3.4\"><span class=\"toc-item-num\">1.3.4&nbsp;&nbsp;</span>Gradient Boosting Classifier</a></span></li></ul></li></ul></li><li><span><a href=\"#Select-Model\" data-toc-modified-id=\"Select-Model-2\"><span class=\"toc-item-num\">2&nbsp;&nbsp;</span>Select Model</a></span></li><li><span><a href=\"#Balance-Data\" data-toc-modified-id=\"Balance-Data-3\"><span class=\"toc-item-num\">3&nbsp;&nbsp;</span>Balance Data</a></span><ul class=\"toc-item\"><li><span><a href=\"#Mediterranean-Climate\" data-toc-modified-id=\"Mediterranean-Climate-3.1\"><span class=\"toc-item-num\">3.1&nbsp;&nbsp;</span>Mediterranean Climate</a></span></li><li><span><a href=\"#Atlantic-Climate\" data-toc-modified-id=\"Atlantic-Climate-3.2\"><span class=\"toc-item-num\">3.2&nbsp;&nbsp;</span>Atlantic Climate</a></span></li><li><span><a href=\"#Alpine-Climate\" data-toc-modified-id=\"Alpine-Climate-3.3\"><span class=\"toc-item-num\">3.3&nbsp;&nbsp;</span>Alpine Climate</a></span></li></ul></li><li><span><a href=\"#Importance\" data-toc-modified-id=\"Importance-4\"><span class=\"toc-item-num\">4&nbsp;&nbsp;</span>Importance</a></span><ul class=\"toc-item\"><li><span><a href=\"#Mediterranean-Climate\" data-toc-modified-id=\"Mediterranean-Climate-4.1\"><span class=\"toc-item-num\">4.1&nbsp;&nbsp;</span>Mediterranean Climate</a></span></li><li><span><a href=\"#Atlantic-Climate\" data-toc-modified-id=\"Atlantic-Climate-4.2\"><span class=\"toc-item-num\">4.2&nbsp;&nbsp;</span>Atlantic Climate</a></span></li><li><span><a href=\"#Alpine-Climate\" data-toc-modified-id=\"Alpine-Climate-4.3\"><span class=\"toc-item-num\">4.3&nbsp;&nbsp;</span>Alpine Climate</a></span></li></ul></li><li><span><a href=\"#Partial-Plots\" data-toc-modified-id=\"Partial-Plots-5\"><span class=\"toc-item-num\">5&nbsp;&nbsp;</span>Partial Plots</a></span><ul class=\"toc-item\"><li><span><a href=\"#Alpine-Climate\" data-toc-modified-id=\"Alpine-Climate-5.1\"><span class=\"toc-item-num\">5.1&nbsp;&nbsp;</span>Alpine Climate</a></span></li></ul></li></ul></div>"
   ]
  },
  {
   "cell_type": "markdown",
   "metadata": {},
   "source": [
    "# Supervised Learning"
   ]
  },
  {
   "cell_type": "markdown",
   "metadata": {},
   "source": [
    "At the end of the Cleaning Data section, we divided the dataset into three different datasets based on the climate to which it belonged (Mediterranean, Atlantic, Alpine). \n",
    "Next, we will make three different models for the three datasets, these models are:\n",
    "- Random Forest\n",
    "- Random Forest with Hyperparameters selected by Random Search\n",
    "- GradientBoosting\n",
    "\n",
    "The objective is to compare the Accuracy score of the three models mentioned above in order to select the model that best predicts based on the features provided.\n",
    "\n",
    "In addition, once selected, we will check the importance of the variables of each climate, in order to obtain the partial dependence graphs based on the two most influential variables."
   ]
  },
  {
   "cell_type": "code",
   "execution_count": 2,
   "metadata": {},
   "outputs": [],
   "source": [
    "from collections import Counter\n",
    "from imblearn.over_sampling import SMOTE\n",
    "from joblib import dump, load\n",
    "import matplotlib.pyplot as plt\n",
    "import pandas as pd\n",
    "import seaborn as sns\n",
    "from sklearn.model_selection import train_test_split, RandomizedSearchCV, cross_validate\n",
    "from sklearn.ensemble import RandomForestClassifier, GradientBoostingClassifier\n",
    "from sklearn.metrics import accuracy_score as ac_s, make_scorer\n",
    "from sklearn.inspection import plot_partial_dependence\n",
    "from src.util import *"
   ]
  },
  {
   "cell_type": "markdown",
   "metadata": {},
   "source": [
    "First at all, we import the libraries."
   ]
  },
  {
   "cell_type": "markdown",
   "metadata": {},
   "source": [
    "## Mediterranean Climate "
   ]
  },
  {
   "cell_type": "markdown",
   "metadata": {},
   "source": [
    "![\"Mediterranean_forest\"](https://en.wikipedia-on-ipfs.org/I/m/Dehesa_Los_Valhondos_Jamon_BEHER_Bernardo_Hernandez_Salamanca_Pelayos.jpg)   \n",
    "**Author:** *https://en.wikipedia-on-ipfs.org/*"
   ]
  },
  {
   "cell_type": "markdown",
   "metadata": {},
   "source": [
    "### Preparing Data"
   ]
  },
  {
   "cell_type": "markdown",
   "metadata": {},
   "source": [
    "To start, we import the .csv file of the Mediterranean climate, cleaned in the \"Cleaning Data\" section. "
   ]
  },
  {
   "cell_type": "code",
   "execution_count": 3,
   "metadata": {},
   "outputs": [],
   "source": [
    "med_df = pd.read_csv(\"data/Mediterranean.csv\")"
   ]
  },
  {
   "cell_type": "markdown",
   "metadata": {},
   "source": [
    "Check the dataFrame"
   ]
  },
  {
   "cell_type": "code",
   "execution_count": 9,
   "metadata": {},
   "outputs": [
    {
     "data": {
      "text/html": [
       "<div>\n",
       "<style scoped>\n",
       "    .dataframe tbody tr th:only-of-type {\n",
       "        vertical-align: middle;\n",
       "    }\n",
       "\n",
       "    .dataframe tbody tr th {\n",
       "        vertical-align: top;\n",
       "    }\n",
       "\n",
       "    .dataframe thead th {\n",
       "        text-align: right;\n",
       "    }\n",
       "</style>\n",
       "<table border=\"1\" class=\"dataframe\">\n",
       "  <thead>\n",
       "    <tr style=\"text-align: right;\">\n",
       "      <th></th>\n",
       "      <th>ndvi_trend</th>\n",
       "      <th>EU_conv_tr</th>\n",
       "      <th>EU_hv_tr</th>\n",
       "      <th>EU_mj_road</th>\n",
       "      <th>EU_sec_roa</th>\n",
       "      <th>EU_sett</th>\n",
       "      <th>EU_fabric</th>\n",
       "      <th>TFCCARB</th>\n",
       "      <th>NOM_FORARB</th>\n",
       "      <th>mdt</th>\n",
       "      <th>...</th>\n",
       "      <th>temp_mean</th>\n",
       "      <th>trend_sequ</th>\n",
       "      <th>trend_temp</th>\n",
       "      <th>wind</th>\n",
       "      <th>lat</th>\n",
       "      <th>long</th>\n",
       "      <th>protected</th>\n",
       "      <th>TIPO_BOSQU_C</th>\n",
       "      <th>TIPO_BOSQU_F</th>\n",
       "      <th>TIPO_BOSQU_M</th>\n",
       "    </tr>\n",
       "  </thead>\n",
       "  <tbody>\n",
       "    <tr>\n",
       "      <th>0</th>\n",
       "      <td>0</td>\n",
       "      <td>23487.7</td>\n",
       "      <td>124182.0</td>\n",
       "      <td>3150.87</td>\n",
       "      <td>517.999</td>\n",
       "      <td>3528.48</td>\n",
       "      <td>26857.2</td>\n",
       "      <td>80.0</td>\n",
       "      <td>-0.318093</td>\n",
       "      <td>95.920</td>\n",
       "      <td>...</td>\n",
       "      <td>21.737884</td>\n",
       "      <td>0</td>\n",
       "      <td>0</td>\n",
       "      <td>3.892917</td>\n",
       "      <td>36.069721</td>\n",
       "      <td>-5.724894</td>\n",
       "      <td>0</td>\n",
       "      <td>1</td>\n",
       "      <td>0</td>\n",
       "      <td>0</td>\n",
       "    </tr>\n",
       "    <tr>\n",
       "      <th>1</th>\n",
       "      <td>0</td>\n",
       "      <td>23263.9</td>\n",
       "      <td>123998.0</td>\n",
       "      <td>2930.25</td>\n",
       "      <td>463.313</td>\n",
       "      <td>3742.52</td>\n",
       "      <td>26665.6</td>\n",
       "      <td>20.0</td>\n",
       "      <td>-0.422686</td>\n",
       "      <td>120.700</td>\n",
       "      <td>...</td>\n",
       "      <td>21.737884</td>\n",
       "      <td>0</td>\n",
       "      <td>0</td>\n",
       "      <td>3.892917</td>\n",
       "      <td>36.069779</td>\n",
       "      <td>-5.722324</td>\n",
       "      <td>0</td>\n",
       "      <td>0</td>\n",
       "      <td>1</td>\n",
       "      <td>0</td>\n",
       "    </tr>\n",
       "    <tr>\n",
       "      <th>2</th>\n",
       "      <td>0</td>\n",
       "      <td>23205.0</td>\n",
       "      <td>123857.0</td>\n",
       "      <td>2865.43</td>\n",
       "      <td>694.969</td>\n",
       "      <td>3662.81</td>\n",
       "      <td>26535.5</td>\n",
       "      <td>80.0</td>\n",
       "      <td>-0.318093</td>\n",
       "      <td>133.898</td>\n",
       "      <td>...</td>\n",
       "      <td>21.737884</td>\n",
       "      <td>0</td>\n",
       "      <td>0</td>\n",
       "      <td>3.892917</td>\n",
       "      <td>36.071866</td>\n",
       "      <td>-5.722396</td>\n",
       "      <td>0</td>\n",
       "      <td>1</td>\n",
       "      <td>0</td>\n",
       "      <td>0</td>\n",
       "    </tr>\n",
       "    <tr>\n",
       "      <th>3</th>\n",
       "      <td>-1</td>\n",
       "      <td>25520.1</td>\n",
       "      <td>125465.0</td>\n",
       "      <td>4820.46</td>\n",
       "      <td>1638.060</td>\n",
       "      <td>1036.00</td>\n",
       "      <td>28331.3</td>\n",
       "      <td>80.0</td>\n",
       "      <td>-0.318093</td>\n",
       "      <td>20.270</td>\n",
       "      <td>...</td>\n",
       "      <td>23.229473</td>\n",
       "      <td>0</td>\n",
       "      <td>0</td>\n",
       "      <td>3.731667</td>\n",
       "      <td>36.077478</td>\n",
       "      <td>-5.750881</td>\n",
       "      <td>0</td>\n",
       "      <td>1</td>\n",
       "      <td>0</td>\n",
       "      <td>0</td>\n",
       "    </tr>\n",
       "    <tr>\n",
       "      <th>4</th>\n",
       "      <td>-1</td>\n",
       "      <td>25297.3</td>\n",
       "      <td>125280.0</td>\n",
       "      <td>4633.13</td>\n",
       "      <td>1686.480</td>\n",
       "      <td>1247.51</td>\n",
       "      <td>28130.8</td>\n",
       "      <td>80.0</td>\n",
       "      <td>-0.318093</td>\n",
       "      <td>25.321</td>\n",
       "      <td>...</td>\n",
       "      <td>23.270327</td>\n",
       "      <td>0</td>\n",
       "      <td>0</td>\n",
       "      <td>3.892917</td>\n",
       "      <td>36.077537</td>\n",
       "      <td>-5.748311</td>\n",
       "      <td>0</td>\n",
       "      <td>1</td>\n",
       "      <td>0</td>\n",
       "      <td>0</td>\n",
       "    </tr>\n",
       "  </tbody>\n",
       "</table>\n",
       "<p>5 rows × 30 columns</p>\n",
       "</div>"
      ],
      "text/plain": [
       "   ndvi_trend  EU_conv_tr  EU_hv_tr  EU_mj_road  EU_sec_roa  EU_sett  \\\n",
       "0           0     23487.7  124182.0     3150.87     517.999  3528.48   \n",
       "1           0     23263.9  123998.0     2930.25     463.313  3742.52   \n",
       "2           0     23205.0  123857.0     2865.43     694.969  3662.81   \n",
       "3          -1     25520.1  125465.0     4820.46    1638.060  1036.00   \n",
       "4          -1     25297.3  125280.0     4633.13    1686.480  1247.51   \n",
       "\n",
       "   EU_fabric  TFCCARB  NOM_FORARB      mdt  ...  temp_mean  trend_sequ  \\\n",
       "0    26857.2     80.0   -0.318093   95.920  ...  21.737884           0   \n",
       "1    26665.6     20.0   -0.422686  120.700  ...  21.737884           0   \n",
       "2    26535.5     80.0   -0.318093  133.898  ...  21.737884           0   \n",
       "3    28331.3     80.0   -0.318093   20.270  ...  23.229473           0   \n",
       "4    28130.8     80.0   -0.318093   25.321  ...  23.270327           0   \n",
       "\n",
       "   trend_temp      wind        lat      long  protected  TIPO_BOSQU_C  \\\n",
       "0           0  3.892917  36.069721 -5.724894          0             1   \n",
       "1           0  3.892917  36.069779 -5.722324          0             0   \n",
       "2           0  3.892917  36.071866 -5.722396          0             1   \n",
       "3           0  3.731667  36.077478 -5.750881          0             1   \n",
       "4           0  3.892917  36.077537 -5.748311          0             1   \n",
       "\n",
       "   TIPO_BOSQU_F  TIPO_BOSQU_M  \n",
       "0             0             0  \n",
       "1             1             0  \n",
       "2             0             0  \n",
       "3             0             0  \n",
       "4             0             0  \n",
       "\n",
       "[5 rows x 30 columns]"
      ]
     },
     "execution_count": 9,
     "metadata": {},
     "output_type": "execute_result"
    }
   ],
   "source": [
    "med_df.head()"
   ]
  },
  {
   "cell_type": "markdown",
   "metadata": {},
   "source": [
    "We are going to prepare the data to be able to pass them to the models. \n",
    "\n",
    "First, we separate the predictor variables (X), and the response variable (y)."
   ]
  },
  {
   "cell_type": "code",
   "execution_count": 10,
   "metadata": {},
   "outputs": [],
   "source": [
    "# To select the predictor variables, using the \".drop\" method, \n",
    "# we eliminate the response variable \"ndvi_trend\" and store the rest in a variable (X_med).\n",
    "X_med = med_df.drop([\"ndvi_trend\",\"lat\",\"long\"], axis=1)\n",
    "# To select the response variable, select \"nvdi_trend\" feature.\n",
    "y_med = med_df[\"ndvi_trend\"]"
   ]
  },
  {
   "cell_type": "markdown",
   "metadata": {},
   "source": [
    "We perform `train_test_split`, to have the \"train\" variables with which we will train the model and the \"test\" variables with which we will check them."
   ]
  },
  {
   "cell_type": "code",
   "execution_count": 19,
   "metadata": {},
   "outputs": [],
   "source": [
    "X_train_m, X_test_m, y_train_m, y_test_m = train_test_split(X_med, y_med, test_size=0.2)\n",
    "# The test size is 20% of the total sample, therefore, the train size is 80%."
   ]
  },
  {
   "cell_type": "markdown",
   "metadata": {},
   "source": [
    "### Random Forest - First Approach"
   ]
  },
  {
   "cell_type": "markdown",
   "metadata": {},
   "source": [
    "Random Forest is an ensembled method. An ensemble method is a technique that combines the predictions from multiple machine learning algorithms together to make more accurate predictions than any individual model.\n",
    "\n",
    "Random forests creates decision trees on randomly selected data samples, gets prediction from each tree and selects the best solution by means of voting.\n",
    "\n",
    "Doc: https://scikit-learn.org/stable/modules/generated/sklearn.ensemble.RandomForestClassifier.html    \n",
    "https://scikit-learn.org/stable/modules/ensemble.html#forest"
   ]
  },
  {
   "cell_type": "code",
   "execution_count": 4,
   "metadata": {},
   "outputs": [],
   "source": [
    "rf = RandomForestClassifier()\n",
    "# We set the model to a variable."
   ]
  },
  {
   "cell_type": "markdown",
   "metadata": {},
   "source": [
    "Let's train the first model: `RandomForestClassifier()`"
   ]
  },
  {
   "cell_type": "code",
   "execution_count": 89,
   "metadata": {},
   "outputs": [],
   "source": [
    "rf_med = rf.fit(\n",
    "                X=X_train_m,\n",
    "                y=y_train_m)\n",
    "# Train the model with train variables.\n",
    "y_pred_med = rf_med.predict(X_train_m)\n",
    "y_pred_med_test = rf_med.predict(X_test_m)\n",
    "# Predict the reponse variable on the basis of predict variables.\n",
    "ac_score_m = ac_s(y_train_m, y_pred_med)\n",
    "ac_score_test_m = ac_s(y_test_m, y_pred_med_test)\n",
    "# Compute Accuracy Score."
   ]
  },
  {
   "cell_type": "code",
   "execution_count": 110,
   "metadata": {},
   "outputs": [
    {
     "data": {
      "text/plain": [
       "['data/first_rf_med.joblib']"
      ]
     },
     "execution_count": 110,
     "metadata": {},
     "output_type": "execute_result"
    }
   ],
   "source": [
    "dump(rf_med, \"data/first_rf_med.joblib\")\n",
    "# Export the model."
   ]
  },
  {
   "cell_type": "markdown",
   "metadata": {},
   "source": [
    "Once trained, the predictions have been made and the accuracy (number of model hits) has been calculated using the `accuracy_score` function, check the scores"
   ]
  },
  {
   "cell_type": "code",
   "execution_count": 93,
   "metadata": {},
   "outputs": [
    {
     "data": {
      "text/plain": [
       "0.9999839942123072"
      ]
     },
     "execution_count": 93,
     "metadata": {},
     "output_type": "execute_result"
    }
   ],
   "source": [
    "ac_score_m"
   ]
  },
  {
   "cell_type": "markdown",
   "metadata": {},
   "source": [
    "This score is the accuracy of the X train. "
   ]
  },
  {
   "cell_type": "code",
   "execution_count": 94,
   "metadata": {},
   "outputs": [
    {
     "data": {
      "text/plain": [
       "0.7823603979666313"
      ]
     },
     "execution_count": 94,
     "metadata": {},
     "output_type": "execute_result"
    }
   ],
   "source": [
    "ac_score_test_m"
   ]
  },
  {
   "cell_type": "markdown",
   "metadata": {},
   "source": [
    "And, this is the score based on the X test. It is a good score to start with, we can say that this model predicts quite well. We will see if with other models it can be improved. Interesting."
   ]
  },
  {
   "cell_type": "code",
   "execution_count": 131,
   "metadata": {},
   "outputs": [],
   "source": [
    "# This function return a dataframe with the two parameters passed.\n",
    "pred_med_rf = get_predictions(y_test_m, y_pred_med_test)"
   ]
  },
  {
   "cell_type": "code",
   "execution_count": 132,
   "metadata": {},
   "outputs": [
    {
     "data": {
      "text/html": [
       "<div>\n",
       "<style scoped>\n",
       "    .dataframe tbody tr th:only-of-type {\n",
       "        vertical-align: middle;\n",
       "    }\n",
       "\n",
       "    .dataframe tbody tr th {\n",
       "        vertical-align: top;\n",
       "    }\n",
       "\n",
       "    .dataframe thead th {\n",
       "        text-align: right;\n",
       "    }\n",
       "</style>\n",
       "<table border=\"1\" class=\"dataframe\">\n",
       "  <thead>\n",
       "    <tr style=\"text-align: right;\">\n",
       "      <th></th>\n",
       "      <th>ndvi_trend</th>\n",
       "      <th>prediction</th>\n",
       "    </tr>\n",
       "  </thead>\n",
       "  <tbody>\n",
       "    <tr>\n",
       "      <th>590662</th>\n",
       "      <td>0</td>\n",
       "      <td>0</td>\n",
       "    </tr>\n",
       "    <tr>\n",
       "      <th>130319</th>\n",
       "      <td>-1</td>\n",
       "      <td>0</td>\n",
       "    </tr>\n",
       "    <tr>\n",
       "      <th>62981</th>\n",
       "      <td>-1</td>\n",
       "      <td>-1</td>\n",
       "    </tr>\n",
       "    <tr>\n",
       "      <th>759880</th>\n",
       "      <td>0</td>\n",
       "      <td>0</td>\n",
       "    </tr>\n",
       "    <tr>\n",
       "      <th>324823</th>\n",
       "      <td>0</td>\n",
       "      <td>0</td>\n",
       "    </tr>\n",
       "  </tbody>\n",
       "</table>\n",
       "</div>"
      ],
      "text/plain": [
       "        ndvi_trend  prediction\n",
       "590662           0           0\n",
       "130319          -1           0\n",
       "62981           -1          -1\n",
       "759880           0           0\n",
       "324823           0           0"
      ]
     },
     "execution_count": 132,
     "metadata": {},
     "output_type": "execute_result"
    }
   ],
   "source": [
    "pred_med_rf.head()\n",
    "# Observe the results."
   ]
  },
  {
   "cell_type": "markdown",
   "metadata": {},
   "source": [
    "### RandomForest with selected hyperparameters"
   ]
  },
  {
   "cell_type": "markdown",
   "metadata": {},
   "source": [
    "The following model will also be a `RandomForestClassifier`, the difference with the previous one is that by means of `RandomizedSearchCV` the best hyperparameters are selected to train the model based on the past data. \n",
    "\n",
    "The `RandomizedSearchCV` is a parameter searcher, which randomly selects among the given hyperparameters and tests to see which hyperparameter selection is best.\n",
    "\n",
    "We use this model and not `GridSearchCV` since for very large DataSets it saves training time.\n",
    "\n",
    "Doc: https://scikit-learn.org/stable/modules/generated/sklearn.model_selection.RandomizedSearchCV.html  \n",
    "     https://scikit-learn.org/stable/modules/grid_search.html#randomized-parameter-search"
   ]
  },
  {
   "cell_type": "markdown",
   "metadata": {},
   "source": [
    "#### Selecting Grid"
   ]
  },
  {
   "cell_type": "markdown",
   "metadata": {},
   "source": [
    "We will select the same model and the same hyperparameters for the three climates.\n",
    "\n",
    "And, also, we are going to train the `RandomizedSearchCV` model and apply it to the three climates.    \n",
    "\n",
    "**NOTE:** For the sake of time optimization, we select the Atlantic climate for training, because it has less inputs."
   ]
  },
  {
   "cell_type": "code",
   "execution_count": 9,
   "metadata": {},
   "outputs": [],
   "source": [
    "params = {\n",
    "        \"n_estimators\":[50, 100, 150],\n",
    "        \"max_depth\":[3,7, None],\n",
    "        \"min_samples_split\":[2, 3],\n",
    "        \"max_features\":[\"auto\", 5, 10],\n",
    "        \"n_jobs\":[-1],        \n",
    "}\n",
    "# Create a diccionary where keys are the name of hiperparameters \n",
    "# and the values are lists with the values we wanto to try."
   ]
  },
  {
   "cell_type": "code",
   "execution_count": 11,
   "metadata": {},
   "outputs": [],
   "source": [
    "rsea = RandomizedSearchCV(\n",
    "                estimator=rf,\n",
    "                param_distributions=params\n",
    ")\n",
    "# Prepare the model with the estimator and params.\n",
    "randsearch = rsea.fit(X_atl, y_atl)\n",
    "# Train the model."
   ]
  },
  {
   "cell_type": "code",
   "execution_count": 12,
   "metadata": {},
   "outputs": [
    {
     "data": {
      "text/plain": [
       "['data/rsearch.joblib']"
      ]
     },
     "execution_count": 12,
     "metadata": {},
     "output_type": "execute_result"
    }
   ],
   "source": [
    "dump(randsearch, \"data/rsearch.joblib\")\n",
    "# Export model"
   ]
  },
  {
   "cell_type": "markdown",
   "metadata": {},
   "source": [
    "#### RandomForest with selected hyperparameters"
   ]
  },
  {
   "cell_type": "markdown",
   "metadata": {},
   "source": [
    "Check what has been the selection of hyperparameters."
   ]
  },
  {
   "cell_type": "code",
   "execution_count": 14,
   "metadata": {},
   "outputs": [
    {
     "data": {
      "text/plain": [
       "RandomForestClassifier(max_depth=3, min_samples_split=3, n_jobs=-1)"
      ]
     },
     "execution_count": 14,
     "metadata": {},
     "output_type": "execute_result"
    }
   ],
   "source": [
    "# Save the best estimator in a variable.\n",
    "best = randsearch.best_estimator_\n",
    "best"
   ]
  },
  {
   "cell_type": "markdown",
   "metadata": {},
   "source": [
    "Training the model with the selected hyperparameters."
   ]
  },
  {
   "cell_type": "code",
   "execution_count": 36,
   "metadata": {},
   "outputs": [],
   "source": [
    "# Train the model.\n",
    "rf_best = best.fit(\n",
    "                X=X_train_m,\n",
    "                y=y_train_m)\n",
    "# Get predictions.\n",
    "yp_med = rf_best.predict(X_train_m)\n",
    "yp_med_test = rf_best.predict(X_test_m)\n",
    "# Get accuracy scores.\n",
    "ac_med = ac_s(y_train_m, yp_med)\n",
    "ac_med_test = ac_s(y_test_m, yp_med_test)"
   ]
  },
  {
   "cell_type": "code",
   "execution_count": 21,
   "metadata": {},
   "outputs": [
    {
     "data": {
      "text/plain": [
       "['data/second_rf_med.joblib']"
      ]
     },
     "execution_count": 21,
     "metadata": {},
     "output_type": "execute_result"
    }
   ],
   "source": [
    "dump(rf_best, \"data/second_rf_med.joblib\")\n",
    "# Export model."
   ]
  },
  {
   "cell_type": "code",
   "execution_count": 38,
   "metadata": {},
   "outputs": [
    {
     "data": {
      "text/plain": [
       "0.6076645314945884"
      ]
     },
     "execution_count": 38,
     "metadata": {},
     "output_type": "execute_result"
    }
   ],
   "source": [
    "ac_med"
   ]
  },
  {
   "cell_type": "code",
   "execution_count": 39,
   "metadata": {},
   "outputs": [
    {
     "data": {
      "text/plain": [
       "0.6075713535731206"
      ]
     },
     "execution_count": 39,
     "metadata": {},
     "output_type": "execute_result"
    }
   ],
   "source": [
    "ac_med_test"
   ]
  },
  {
   "cell_type": "markdown",
   "metadata": {},
   "source": [
    "As we can see, the accuracy score for this model is significantly lower than with the previous model.\n",
    "\n",
    "Moreover, the score is around 0.6 so, although it is not a bad score, we cannot say that it predicts efficiently."
   ]
  },
  {
   "cell_type": "code",
   "execution_count": 40,
   "metadata": {},
   "outputs": [],
   "source": [
    "pred_med_rf2 = get_predictions(y_test_m, yp_med_test)\n",
    "# Gets DataFrame about real and predict"
   ]
  },
  {
   "cell_type": "code",
   "execution_count": 135,
   "metadata": {},
   "outputs": [
    {
     "data": {
      "text/html": [
       "<div>\n",
       "<style scoped>\n",
       "    .dataframe tbody tr th:only-of-type {\n",
       "        vertical-align: middle;\n",
       "    }\n",
       "\n",
       "    .dataframe tbody tr th {\n",
       "        vertical-align: top;\n",
       "    }\n",
       "\n",
       "    .dataframe thead th {\n",
       "        text-align: right;\n",
       "    }\n",
       "</style>\n",
       "<table border=\"1\" class=\"dataframe\">\n",
       "  <thead>\n",
       "    <tr style=\"text-align: right;\">\n",
       "      <th></th>\n",
       "      <th>ndvi_trend</th>\n",
       "      <th>prediction</th>\n",
       "    </tr>\n",
       "  </thead>\n",
       "  <tbody>\n",
       "    <tr>\n",
       "      <th>590662</th>\n",
       "      <td>0</td>\n",
       "      <td>0</td>\n",
       "    </tr>\n",
       "    <tr>\n",
       "      <th>130319</th>\n",
       "      <td>-1</td>\n",
       "      <td>0</td>\n",
       "    </tr>\n",
       "    <tr>\n",
       "      <th>62981</th>\n",
       "      <td>-1</td>\n",
       "      <td>-1</td>\n",
       "    </tr>\n",
       "    <tr>\n",
       "      <th>759880</th>\n",
       "      <td>0</td>\n",
       "      <td>0</td>\n",
       "    </tr>\n",
       "    <tr>\n",
       "      <th>324823</th>\n",
       "      <td>0</td>\n",
       "      <td>0</td>\n",
       "    </tr>\n",
       "  </tbody>\n",
       "</table>\n",
       "</div>"
      ],
      "text/plain": [
       "        ndvi_trend  prediction\n",
       "590662           0           0\n",
       "130319          -1           0\n",
       "62981           -1          -1\n",
       "759880           0           0\n",
       "324823           0           0"
      ]
     },
     "execution_count": 135,
     "metadata": {},
     "output_type": "execute_result"
    }
   ],
   "source": [
    "pred_med_rf2.head()"
   ]
  },
  {
   "cell_type": "markdown",
   "metadata": {},
   "source": [
    "### GradientBoosting"
   ]
  },
  {
   "cell_type": "markdown",
   "metadata": {},
   "source": [
    "`GradientboostingClassifier` is a boosting method, base estimators are built sequentially and one tries to reduce the bias of the combined estimator. The motivation is to combine several weak models to produce a powerful ensemble.  \n",
    "\n",
    "Doc: https://scikit-learn.org/stable/modules/ensemble.html#gradient-boosting  \n",
    "\n",
    "`GradientboostingClassifier` builds an additive model in a forward stage-wise fashion; it allows for the optimization of arbitrary differentiable loss functions.  \n",
    "\n",
    "Doc: https://scikit-learn.org/stable/modules/generated/sklearn.ensemble.GradientBoostingClassifier.html"
   ]
  },
  {
   "cell_type": "code",
   "execution_count": 47,
   "metadata": {},
   "outputs": [],
   "source": [
    "grb = GradientBoostingClassifier(criterion=\"mse\")\n",
    "# We set the model to a variable."
   ]
  },
  {
   "cell_type": "markdown",
   "metadata": {},
   "source": [
    "Let's train GB model."
   ]
  },
  {
   "cell_type": "code",
   "execution_count": 51,
   "metadata": {},
   "outputs": [],
   "source": [
    "# Set train about X train and y train.\n",
    "gb_med = grb.fit(\n",
    "                X=X_train_m,\n",
    "                y=y_train_m)\n",
    "\n",
    "# Get the prediction about train and test.\n",
    "yp_gb_med = gb_med.predict(X_train_m)\n",
    "yp_gb_med_test = gb_med.predict(X_test_m)\n",
    "\n",
    "# Get accuracy scores\n",
    "ac_gb_med = ac_s(y_train_m, yp_gb_med)\n",
    "ac_gb_med_test = ac_s(y_test_m, yp_gb_med_test)"
   ]
  },
  {
   "cell_type": "code",
   "execution_count": 112,
   "metadata": {},
   "outputs": [
    {
     "data": {
      "text/plain": [
       "['data/gb_med.joblib']"
      ]
     },
     "execution_count": 112,
     "metadata": {},
     "output_type": "execute_result"
    }
   ],
   "source": [
    "# Export model.\n",
    "dump(gb_med, \"data/gb_med.joblib\")"
   ]
  },
  {
   "cell_type": "code",
   "execution_count": 86,
   "metadata": {},
   "outputs": [
    {
     "data": {
      "text/plain": [
       "0.6572616658183599"
      ]
     },
     "execution_count": 86,
     "metadata": {},
     "output_type": "execute_result"
    }
   ],
   "source": [
    "ac_gb_med"
   ]
  },
  {
   "cell_type": "code",
   "execution_count": 88,
   "metadata": {},
   "outputs": [
    {
     "data": {
      "text/plain": [
       "0.6558062409567589"
      ]
     },
     "execution_count": 88,
     "metadata": {},
     "output_type": "execute_result"
    }
   ],
   "source": [
    "ac_gb_med_test"
   ]
  },
  {
   "cell_type": "markdown",
   "metadata": {},
   "source": [
    "The accuracy scores have improved on the previous model but, nevertheless, do not surpass the first Random Forest model."
   ]
  },
  {
   "cell_type": "code",
   "execution_count": 138,
   "metadata": {},
   "outputs": [],
   "source": [
    "pred_grb_med = get_predictions(y_test_m, yp_gb_med_test)\n",
    "# get DataFrame about y test real and y predict"
   ]
  },
  {
   "cell_type": "code",
   "execution_count": 139,
   "metadata": {},
   "outputs": [
    {
     "data": {
      "text/html": [
       "<div>\n",
       "<style scoped>\n",
       "    .dataframe tbody tr th:only-of-type {\n",
       "        vertical-align: middle;\n",
       "    }\n",
       "\n",
       "    .dataframe tbody tr th {\n",
       "        vertical-align: top;\n",
       "    }\n",
       "\n",
       "    .dataframe thead th {\n",
       "        text-align: right;\n",
       "    }\n",
       "</style>\n",
       "<table border=\"1\" class=\"dataframe\">\n",
       "  <thead>\n",
       "    <tr style=\"text-align: right;\">\n",
       "      <th></th>\n",
       "      <th>ndvi_trend</th>\n",
       "      <th>prediction</th>\n",
       "    </tr>\n",
       "  </thead>\n",
       "  <tbody>\n",
       "    <tr>\n",
       "      <th>590662</th>\n",
       "      <td>0</td>\n",
       "      <td>0</td>\n",
       "    </tr>\n",
       "    <tr>\n",
       "      <th>130319</th>\n",
       "      <td>-1</td>\n",
       "      <td>-1</td>\n",
       "    </tr>\n",
       "    <tr>\n",
       "      <th>62981</th>\n",
       "      <td>-1</td>\n",
       "      <td>-1</td>\n",
       "    </tr>\n",
       "    <tr>\n",
       "      <th>759880</th>\n",
       "      <td>0</td>\n",
       "      <td>0</td>\n",
       "    </tr>\n",
       "    <tr>\n",
       "      <th>324823</th>\n",
       "      <td>0</td>\n",
       "      <td>0</td>\n",
       "    </tr>\n",
       "  </tbody>\n",
       "</table>\n",
       "</div>"
      ],
      "text/plain": [
       "        ndvi_trend  prediction\n",
       "590662           0           0\n",
       "130319          -1          -1\n",
       "62981           -1          -1\n",
       "759880           0           0\n",
       "324823           0           0"
      ]
     },
     "execution_count": 139,
     "metadata": {},
     "output_type": "execute_result"
    }
   ],
   "source": [
    "pred_grb_med.head()"
   ]
  },
  {
   "cell_type": "markdown",
   "metadata": {},
   "source": [
    "## Atlantic Climate"
   ]
  },
  {
   "cell_type": "markdown",
   "metadata": {},
   "source": [
    "![\"Atlantic_Forest\"](https://lh3.googleusercontent.com/proxy/KBkuiKtiYOJvNB4tOEwkrM6WUOlamvbbou-g_BpM_E3PJXnmOpTPS8O64UmjwpZNPuhbEeb3-K5CIrEWWSo7qIVWetE4ycX3V_l9iIk4y7P3v4PALocUARgbiP2Fnj67hHU40aOIEssQ2YwLmKAJkOaF5pi3wPZOkFigXWZwX7TpcBpz_to5aBw)    \n",
    "**Author:** *http://www.culinaryanthropologist.org/*"
   ]
  },
  {
   "cell_type": "markdown",
   "metadata": {},
   "source": [
    "We will repeat the same process with each climate and each model. \n",
    "\n",
    "The steps are exactly the same as in the previous climate."
   ]
  },
  {
   "cell_type": "markdown",
   "metadata": {},
   "source": [
    "### Preparing Data"
   ]
  },
  {
   "cell_type": "code",
   "execution_count": 4,
   "metadata": {},
   "outputs": [],
   "source": [
    "atl_df = pd.read_csv(\"data/Atlantic.csv\")"
   ]
  },
  {
   "cell_type": "code",
   "execution_count": 16,
   "metadata": {},
   "outputs": [
    {
     "data": {
      "text/html": [
       "<div>\n",
       "<style scoped>\n",
       "    .dataframe tbody tr th:only-of-type {\n",
       "        vertical-align: middle;\n",
       "    }\n",
       "\n",
       "    .dataframe tbody tr th {\n",
       "        vertical-align: top;\n",
       "    }\n",
       "\n",
       "    .dataframe thead th {\n",
       "        text-align: right;\n",
       "    }\n",
       "</style>\n",
       "<table border=\"1\" class=\"dataframe\">\n",
       "  <thead>\n",
       "    <tr style=\"text-align: right;\">\n",
       "      <th></th>\n",
       "      <th>ndvi_trend</th>\n",
       "      <th>EU_conv_tr</th>\n",
       "      <th>EU_hv_tr</th>\n",
       "      <th>EU_mj_road</th>\n",
       "      <th>EU_sec_roa</th>\n",
       "      <th>EU_sett</th>\n",
       "      <th>EU_fabric</th>\n",
       "      <th>TFCCARB</th>\n",
       "      <th>NOM_FORARB</th>\n",
       "      <th>mdt</th>\n",
       "      <th>...</th>\n",
       "      <th>temp_mean</th>\n",
       "      <th>trend_sequ</th>\n",
       "      <th>trend_temp</th>\n",
       "      <th>wind</th>\n",
       "      <th>lat</th>\n",
       "      <th>long</th>\n",
       "      <th>protected</th>\n",
       "      <th>TIPO_BOSQU_C</th>\n",
       "      <th>TIPO_BOSQU_F</th>\n",
       "      <th>TIPO_BOSQU_M</th>\n",
       "    </tr>\n",
       "  </thead>\n",
       "  <tbody>\n",
       "    <tr>\n",
       "      <th>0</th>\n",
       "      <td>0</td>\n",
       "      <td>35029.2</td>\n",
       "      <td>65263.8</td>\n",
       "      <td>43876.1</td>\n",
       "      <td>0.000</td>\n",
       "      <td>5641.20</td>\n",
       "      <td>33990.4</td>\n",
       "      <td>70.0</td>\n",
       "      <td>-0.286743</td>\n",
       "      <td>784.862</td>\n",
       "      <td>...</td>\n",
       "      <td>18.138729</td>\n",
       "      <td>0</td>\n",
       "      <td>0</td>\n",
       "      <td>3.247292</td>\n",
       "      <td>41.810116</td>\n",
       "      <td>-8.131746</td>\n",
       "      <td>0</td>\n",
       "      <td>1</td>\n",
       "      <td>0</td>\n",
       "      <td>0</td>\n",
       "    </tr>\n",
       "    <tr>\n",
       "      <th>1</th>\n",
       "      <td>0</td>\n",
       "      <td>35127.8</td>\n",
       "      <td>65200.9</td>\n",
       "      <td>43690.4</td>\n",
       "      <td>231.656</td>\n",
       "      <td>5569.40</td>\n",
       "      <td>33796.4</td>\n",
       "      <td>10.0</td>\n",
       "      <td>-0.286743</td>\n",
       "      <td>743.656</td>\n",
       "      <td>...</td>\n",
       "      <td>17.211175</td>\n",
       "      <td>0</td>\n",
       "      <td>0</td>\n",
       "      <td>3.247292</td>\n",
       "      <td>41.810240</td>\n",
       "      <td>-8.128969</td>\n",
       "      <td>0</td>\n",
       "      <td>1</td>\n",
       "      <td>0</td>\n",
       "      <td>0</td>\n",
       "    </tr>\n",
       "    <tr>\n",
       "      <th>2</th>\n",
       "      <td>0</td>\n",
       "      <td>34819.4</td>\n",
       "      <td>65041.0</td>\n",
       "      <td>43738.3</td>\n",
       "      <td>231.656</td>\n",
       "      <td>5422.94</td>\n",
       "      <td>33864.6</td>\n",
       "      <td>70.0</td>\n",
       "      <td>-0.286743</td>\n",
       "      <td>770.147</td>\n",
       "      <td>...</td>\n",
       "      <td>18.138729</td>\n",
       "      <td>0</td>\n",
       "      <td>0</td>\n",
       "      <td>3.247292</td>\n",
       "      <td>41.812194</td>\n",
       "      <td>-8.131913</td>\n",
       "      <td>0</td>\n",
       "      <td>1</td>\n",
       "      <td>0</td>\n",
       "      <td>0</td>\n",
       "    </tr>\n",
       "    <tr>\n",
       "      <th>3</th>\n",
       "      <td>0</td>\n",
       "      <td>34918.7</td>\n",
       "      <td>64977.9</td>\n",
       "      <td>43552.0</td>\n",
       "      <td>0.000</td>\n",
       "      <td>5348.20</td>\n",
       "      <td>33670.0</td>\n",
       "      <td>10.0</td>\n",
       "      <td>-0.286743</td>\n",
       "      <td>705.548</td>\n",
       "      <td>...</td>\n",
       "      <td>17.211175</td>\n",
       "      <td>0</td>\n",
       "      <td>0</td>\n",
       "      <td>3.247292</td>\n",
       "      <td>41.812318</td>\n",
       "      <td>-8.129135</td>\n",
       "      <td>0</td>\n",
       "      <td>1</td>\n",
       "      <td>0</td>\n",
       "      <td>0</td>\n",
       "    </tr>\n",
       "    <tr>\n",
       "      <th>4</th>\n",
       "      <td>0</td>\n",
       "      <td>34223.3</td>\n",
       "      <td>65079.4</td>\n",
       "      <td>43616.0</td>\n",
       "      <td>1036.000</td>\n",
       "      <td>5603.02</td>\n",
       "      <td>34526.1</td>\n",
       "      <td>70.0</td>\n",
       "      <td>-0.286743</td>\n",
       "      <td>903.974</td>\n",
       "      <td>...</td>\n",
       "      <td>18.570829</td>\n",
       "      <td>0</td>\n",
       "      <td>0</td>\n",
       "      <td>3.247292</td>\n",
       "      <td>41.813774</td>\n",
       "      <td>-8.143190</td>\n",
       "      <td>0</td>\n",
       "      <td>1</td>\n",
       "      <td>0</td>\n",
       "      <td>0</td>\n",
       "    </tr>\n",
       "  </tbody>\n",
       "</table>\n",
       "<p>5 rows × 30 columns</p>\n",
       "</div>"
      ],
      "text/plain": [
       "   ndvi_trend  EU_conv_tr  EU_hv_tr  EU_mj_road  EU_sec_roa  EU_sett  \\\n",
       "0           0     35029.2   65263.8     43876.1       0.000  5641.20   \n",
       "1           0     35127.8   65200.9     43690.4     231.656  5569.40   \n",
       "2           0     34819.4   65041.0     43738.3     231.656  5422.94   \n",
       "3           0     34918.7   64977.9     43552.0       0.000  5348.20   \n",
       "4           0     34223.3   65079.4     43616.0    1036.000  5603.02   \n",
       "\n",
       "   EU_fabric  TFCCARB  NOM_FORARB      mdt  ...  temp_mean  trend_sequ  \\\n",
       "0    33990.4     70.0   -0.286743  784.862  ...  18.138729           0   \n",
       "1    33796.4     10.0   -0.286743  743.656  ...  17.211175           0   \n",
       "2    33864.6     70.0   -0.286743  770.147  ...  18.138729           0   \n",
       "3    33670.0     10.0   -0.286743  705.548  ...  17.211175           0   \n",
       "4    34526.1     70.0   -0.286743  903.974  ...  18.570829           0   \n",
       "\n",
       "   trend_temp      wind        lat      long  protected  TIPO_BOSQU_C  \\\n",
       "0           0  3.247292  41.810116 -8.131746          0             1   \n",
       "1           0  3.247292  41.810240 -8.128969          0             1   \n",
       "2           0  3.247292  41.812194 -8.131913          0             1   \n",
       "3           0  3.247292  41.812318 -8.129135          0             1   \n",
       "4           0  3.247292  41.813774 -8.143190          0             1   \n",
       "\n",
       "   TIPO_BOSQU_F  TIPO_BOSQU_M  \n",
       "0             0             0  \n",
       "1             0             0  \n",
       "2             0             0  \n",
       "3             0             0  \n",
       "4             0             0  \n",
       "\n",
       "[5 rows x 30 columns]"
      ]
     },
     "execution_count": 16,
     "metadata": {},
     "output_type": "execute_result"
    }
   ],
   "source": [
    "atl_df.head()"
   ]
  },
  {
   "cell_type": "code",
   "execution_count": 17,
   "metadata": {},
   "outputs": [],
   "source": [
    "X_atl = atl_df.drop([\"ndvi_trend\",\"lat\",\"long\"], axis=1)\n",
    "y_atl = atl_df[\"ndvi_trend\"]"
   ]
  },
  {
   "cell_type": "code",
   "execution_count": 7,
   "metadata": {},
   "outputs": [],
   "source": [
    "X_train_a, X_test_a, y_train_a, y_test_a = train_test_split(X_atl, y_atl, test_size=0.2, random_state=12345)"
   ]
  },
  {
   "cell_type": "markdown",
   "metadata": {},
   "source": [
    "### First Approach"
   ]
  },
  {
   "cell_type": "code",
   "execution_count": 63,
   "metadata": {},
   "outputs": [],
   "source": [
    "rf_atl = rf.fit(\n",
    "                X=X_train_a,\n",
    "                y=y_train_a)\n",
    "\n",
    "y_pred_atl = rf_atl.predict(X_train_a)\n",
    "y_pred_atl_test = rf_atl.predict(X_test_a)\n",
    "\n",
    "ac_score_a = ac_s(y_train_a, y_pred_atl)\n",
    "ac_score_test_a = ac_s(y_test_a, y_pred_atl_test)\n"
   ]
  },
  {
   "cell_type": "code",
   "execution_count": 113,
   "metadata": {},
   "outputs": [
    {
     "data": {
      "text/plain": [
       "['data/first_rf_atlantic.joblib']"
      ]
     },
     "execution_count": 113,
     "metadata": {},
     "output_type": "execute_result"
    }
   ],
   "source": [
    "dump(rf_atl, \"data/first_rf_atlantic.joblib\")"
   ]
  },
  {
   "cell_type": "code",
   "execution_count": 90,
   "metadata": {},
   "outputs": [
    {
     "data": {
      "text/plain": [
       "0.9999920866668249"
      ]
     },
     "execution_count": 90,
     "metadata": {},
     "output_type": "execute_result"
    }
   ],
   "source": [
    "ac_score_a"
   ]
  },
  {
   "cell_type": "code",
   "execution_count": 92,
   "metadata": {},
   "outputs": [
    {
     "data": {
      "text/plain": [
       "0.8158898472738783"
      ]
     },
     "execution_count": 92,
     "metadata": {},
     "output_type": "execute_result"
    }
   ],
   "source": [
    "ac_score_test_a"
   ]
  },
  {
   "cell_type": "markdown",
   "metadata": {},
   "source": [
    "We can see a really good accuracy score for the test, exceeding 0.8. Interesting."
   ]
  },
  {
   "cell_type": "code",
   "execution_count": 140,
   "metadata": {},
   "outputs": [],
   "source": [
    "pred_atl_rf = get_predictions(y_test_a, y_pred_atl_test)"
   ]
  },
  {
   "cell_type": "code",
   "execution_count": 141,
   "metadata": {
    "scrolled": false
   },
   "outputs": [
    {
     "data": {
      "text/html": [
       "<div>\n",
       "<style scoped>\n",
       "    .dataframe tbody tr th:only-of-type {\n",
       "        vertical-align: middle;\n",
       "    }\n",
       "\n",
       "    .dataframe tbody tr th {\n",
       "        vertical-align: top;\n",
       "    }\n",
       "\n",
       "    .dataframe thead th {\n",
       "        text-align: right;\n",
       "    }\n",
       "</style>\n",
       "<table border=\"1\" class=\"dataframe\">\n",
       "  <thead>\n",
       "    <tr style=\"text-align: right;\">\n",
       "      <th></th>\n",
       "      <th>ndvi_trend</th>\n",
       "      <th>prediction</th>\n",
       "    </tr>\n",
       "  </thead>\n",
       "  <tbody>\n",
       "    <tr>\n",
       "      <th>114856</th>\n",
       "      <td>0</td>\n",
       "      <td>0</td>\n",
       "    </tr>\n",
       "    <tr>\n",
       "      <th>118602</th>\n",
       "      <td>0</td>\n",
       "      <td>0</td>\n",
       "    </tr>\n",
       "    <tr>\n",
       "      <th>313458</th>\n",
       "      <td>1</td>\n",
       "      <td>0</td>\n",
       "    </tr>\n",
       "    <tr>\n",
       "      <th>279900</th>\n",
       "      <td>0</td>\n",
       "      <td>0</td>\n",
       "    </tr>\n",
       "    <tr>\n",
       "      <th>37559</th>\n",
       "      <td>0</td>\n",
       "      <td>0</td>\n",
       "    </tr>\n",
       "  </tbody>\n",
       "</table>\n",
       "</div>"
      ],
      "text/plain": [
       "        ndvi_trend  prediction\n",
       "114856           0           0\n",
       "118602           0           0\n",
       "313458           1           0\n",
       "279900           0           0\n",
       "37559            0           0"
      ]
     },
     "execution_count": 141,
     "metadata": {},
     "output_type": "execute_result"
    }
   ],
   "source": [
    "pred_atl_rf.head()"
   ]
  },
  {
   "cell_type": "markdown",
   "metadata": {},
   "source": [
    "### RandomForest with Selected Hiperparameters"
   ]
  },
  {
   "cell_type": "code",
   "execution_count": 41,
   "metadata": {},
   "outputs": [],
   "source": [
    "best_rf_atl = randsearch.best_estimator_"
   ]
  },
  {
   "cell_type": "code",
   "execution_count": 42,
   "metadata": {},
   "outputs": [],
   "source": [
    "rf_best_atl = best_rf_atl.fit(\n",
    "                X=X_train_a,\n",
    "                y=y_train_a)\n",
    "\n",
    "yp_atl = rf_best_atl.predict(X_train_a)\n",
    "yp_atl_test = rf_best_atl.predict(X_test_a)\n",
    "\n",
    "ac_atl = ac_s(y_train_a, yp_atl)\n",
    "ac_atl_test = ac_s(y_test_a, yp_atl_test)"
   ]
  },
  {
   "cell_type": "code",
   "execution_count": 43,
   "metadata": {},
   "outputs": [
    {
     "data": {
      "text/plain": [
       "['data/second_rf_atlantic.joblib']"
      ]
     },
     "execution_count": 43,
     "metadata": {},
     "output_type": "execute_result"
    }
   ],
   "source": [
    "dump(rf_best_atl, \"data/second_rf_atlantic.joblib\")"
   ]
  },
  {
   "cell_type": "code",
   "execution_count": 95,
   "metadata": {},
   "outputs": [
    {
     "data": {
      "text/plain": [
       "0.7420886451582271"
      ]
     },
     "execution_count": 95,
     "metadata": {},
     "output_type": "execute_result"
    }
   ],
   "source": [
    "ac_atl"
   ]
  },
  {
   "cell_type": "code",
   "execution_count": 96,
   "metadata": {},
   "outputs": [
    {
     "data": {
      "text/plain": [
       "0.7405238585107224"
      ]
     },
     "execution_count": 96,
     "metadata": {},
     "output_type": "execute_result"
    }
   ],
   "source": [
    "ac_atl_test"
   ]
  },
  {
   "cell_type": "markdown",
   "metadata": {},
   "source": [
    "As could be seen in the previous section (Mediterranean Climate) the accuracy scores are worse in this model than in the previous one. However, they improve with respect to the same model in the Mediterranean climate."
   ]
  },
  {
   "cell_type": "code",
   "execution_count": 46,
   "metadata": {},
   "outputs": [],
   "source": [
    "pred_atl_rf2 = get_predictions(y_test_a, yp_atl_test)"
   ]
  },
  {
   "cell_type": "code",
   "execution_count": 47,
   "metadata": {
    "scrolled": false
   },
   "outputs": [
    {
     "data": {
      "text/html": [
       "<div>\n",
       "<style scoped>\n",
       "    .dataframe tbody tr th:only-of-type {\n",
       "        vertical-align: middle;\n",
       "    }\n",
       "\n",
       "    .dataframe tbody tr th {\n",
       "        vertical-align: top;\n",
       "    }\n",
       "\n",
       "    .dataframe thead th {\n",
       "        text-align: right;\n",
       "    }\n",
       "</style>\n",
       "<table border=\"1\" class=\"dataframe\">\n",
       "  <thead>\n",
       "    <tr style=\"text-align: right;\">\n",
       "      <th></th>\n",
       "      <th>ndvi_trend</th>\n",
       "      <th>prediction</th>\n",
       "    </tr>\n",
       "  </thead>\n",
       "  <tbody>\n",
       "    <tr>\n",
       "      <th>114856</th>\n",
       "      <td>0</td>\n",
       "      <td>0</td>\n",
       "    </tr>\n",
       "    <tr>\n",
       "      <th>118602</th>\n",
       "      <td>0</td>\n",
       "      <td>0</td>\n",
       "    </tr>\n",
       "    <tr>\n",
       "      <th>313458</th>\n",
       "      <td>1</td>\n",
       "      <td>0</td>\n",
       "    </tr>\n",
       "    <tr>\n",
       "      <th>279900</th>\n",
       "      <td>0</td>\n",
       "      <td>0</td>\n",
       "    </tr>\n",
       "    <tr>\n",
       "      <th>37559</th>\n",
       "      <td>0</td>\n",
       "      <td>0</td>\n",
       "    </tr>\n",
       "  </tbody>\n",
       "</table>\n",
       "</div>"
      ],
      "text/plain": [
       "        ndvi_trend  prediction\n",
       "114856           0           0\n",
       "118602           0           0\n",
       "313458           1           0\n",
       "279900           0           0\n",
       "37559            0           0"
      ]
     },
     "execution_count": 47,
     "metadata": {},
     "output_type": "execute_result"
    }
   ],
   "source": [
    "pred_atl_rf2.head()"
   ]
  },
  {
   "cell_type": "markdown",
   "metadata": {},
   "source": [
    "### GradientBoosting"
   ]
  },
  {
   "cell_type": "code",
   "execution_count": 66,
   "metadata": {},
   "outputs": [],
   "source": [
    "gb_atl = grb.fit(\n",
    "                X=X_train_a,\n",
    "                y=y_train_a)\n",
    "\n",
    "\n",
    "yp_gb_atl = gb_atl.predict(X_train_a)\n",
    "yp_gb_atl_test = gb_atl.predict(X_test_a)\n",
    "\n",
    "ac_gb_atl = ac_s(y_train_a, yp_gb_atl)\n",
    "ac_gb_atl_test = ac_s(y_test_a, yp_gb_atl_test)"
   ]
  },
  {
   "cell_type": "code",
   "execution_count": 116,
   "metadata": {},
   "outputs": [
    {
     "data": {
      "text/plain": [
       "['data/grb_atlantic.joblib']"
      ]
     },
     "execution_count": 116,
     "metadata": {},
     "output_type": "execute_result"
    }
   ],
   "source": [
    "dump(gb_atl, \"data/grb_atlantic.joblib\")"
   ]
  },
  {
   "cell_type": "code",
   "execution_count": 99,
   "metadata": {},
   "outputs": [
    {
     "data": {
      "text/plain": [
       "0.771391717905499"
      ]
     },
     "execution_count": 99,
     "metadata": {},
     "output_type": "execute_result"
    }
   ],
   "source": [
    "ac_gb_atl"
   ]
  },
  {
   "cell_type": "code",
   "execution_count": 100,
   "metadata": {},
   "outputs": [
    {
     "data": {
      "text/plain": [
       "0.7666534778824088"
      ]
     },
     "execution_count": 100,
     "metadata": {},
     "output_type": "execute_result"
    }
   ],
   "source": [
    "ac_gb_atl_test"
   ]
  },
  {
   "cell_type": "markdown",
   "metadata": {},
   "source": [
    "With the GB, the accuracy scores are very close to those of the previous model, exceeding them by just over 0.2. However, as before, the scores are better in the RandomForest."
   ]
  },
  {
   "cell_type": "code",
   "execution_count": 142,
   "metadata": {},
   "outputs": [],
   "source": [
    "pred_atl_grb = get_predictions(y_test_a, yp_gb_atl_test)"
   ]
  },
  {
   "cell_type": "code",
   "execution_count": 143,
   "metadata": {
    "scrolled": true
   },
   "outputs": [
    {
     "data": {
      "text/html": [
       "<div>\n",
       "<style scoped>\n",
       "    .dataframe tbody tr th:only-of-type {\n",
       "        vertical-align: middle;\n",
       "    }\n",
       "\n",
       "    .dataframe tbody tr th {\n",
       "        vertical-align: top;\n",
       "    }\n",
       "\n",
       "    .dataframe thead th {\n",
       "        text-align: right;\n",
       "    }\n",
       "</style>\n",
       "<table border=\"1\" class=\"dataframe\">\n",
       "  <thead>\n",
       "    <tr style=\"text-align: right;\">\n",
       "      <th></th>\n",
       "      <th>ndvi_trend</th>\n",
       "      <th>prediction</th>\n",
       "    </tr>\n",
       "  </thead>\n",
       "  <tbody>\n",
       "    <tr>\n",
       "      <th>114856</th>\n",
       "      <td>0</td>\n",
       "      <td>0</td>\n",
       "    </tr>\n",
       "    <tr>\n",
       "      <th>118602</th>\n",
       "      <td>0</td>\n",
       "      <td>0</td>\n",
       "    </tr>\n",
       "    <tr>\n",
       "      <th>313458</th>\n",
       "      <td>1</td>\n",
       "      <td>0</td>\n",
       "    </tr>\n",
       "    <tr>\n",
       "      <th>279900</th>\n",
       "      <td>0</td>\n",
       "      <td>-1</td>\n",
       "    </tr>\n",
       "    <tr>\n",
       "      <th>37559</th>\n",
       "      <td>0</td>\n",
       "      <td>0</td>\n",
       "    </tr>\n",
       "  </tbody>\n",
       "</table>\n",
       "</div>"
      ],
      "text/plain": [
       "        ndvi_trend  prediction\n",
       "114856           0           0\n",
       "118602           0           0\n",
       "313458           1           0\n",
       "279900           0          -1\n",
       "37559            0           0"
      ]
     },
     "execution_count": 143,
     "metadata": {},
     "output_type": "execute_result"
    }
   ],
   "source": [
    "pred_atl_grb.head()"
   ]
  },
  {
   "cell_type": "markdown",
   "metadata": {},
   "source": [
    "## Alpine Climate"
   ]
  },
  {
   "cell_type": "markdown",
   "metadata": {},
   "source": [
    "![\"Alpline_forest\"](https://upload.wikimedia.org/wikipedia/commons/thumb/6/65/Le_pont_d%27Espagne.JPG/1200px-Le_pont_d%27Espagne.JPG)    \n",
    "**Author:** *https://en.wikipedia.org/*"
   ]
  },
  {
   "cell_type": "markdown",
   "metadata": {},
   "source": [
    "We will repeat the same process with each climate and each model.\n",
    "\n",
    "The steps are exactly the same as in the previous climate."
   ]
  },
  {
   "cell_type": "markdown",
   "metadata": {},
   "source": [
    "### Preparing Data"
   ]
  },
  {
   "cell_type": "code",
   "execution_count": 5,
   "metadata": {},
   "outputs": [],
   "source": [
    "alp_df = pd.read_csv(\"data/Alpine.csv\")"
   ]
  },
  {
   "cell_type": "code",
   "execution_count": 13,
   "metadata": {},
   "outputs": [
    {
     "data": {
      "text/html": [
       "<div>\n",
       "<style scoped>\n",
       "    .dataframe tbody tr th:only-of-type {\n",
       "        vertical-align: middle;\n",
       "    }\n",
       "\n",
       "    .dataframe tbody tr th {\n",
       "        vertical-align: top;\n",
       "    }\n",
       "\n",
       "    .dataframe thead th {\n",
       "        text-align: right;\n",
       "    }\n",
       "</style>\n",
       "<table border=\"1\" class=\"dataframe\">\n",
       "  <thead>\n",
       "    <tr style=\"text-align: right;\">\n",
       "      <th></th>\n",
       "      <th>ndvi_trend</th>\n",
       "      <th>EU_conv_tr</th>\n",
       "      <th>EU_hv_tr</th>\n",
       "      <th>EU_mj_road</th>\n",
       "      <th>EU_sec_roa</th>\n",
       "      <th>EU_sett</th>\n",
       "      <th>EU_fabric</th>\n",
       "      <th>TFCCARB</th>\n",
       "      <th>NOM_FORARB</th>\n",
       "      <th>mdt</th>\n",
       "      <th>...</th>\n",
       "      <th>temp_mean</th>\n",
       "      <th>trend_sequ</th>\n",
       "      <th>trend_temp</th>\n",
       "      <th>wind</th>\n",
       "      <th>lat</th>\n",
       "      <th>long</th>\n",
       "      <th>protected</th>\n",
       "      <th>TIPO_BOSQU_C</th>\n",
       "      <th>TIPO_BOSQU_F</th>\n",
       "      <th>TIPO_BOSQU_M</th>\n",
       "    </tr>\n",
       "  </thead>\n",
       "  <tbody>\n",
       "    <tr>\n",
       "      <th>0</th>\n",
       "      <td>-1</td>\n",
       "      <td>44224.5</td>\n",
       "      <td>125893.0</td>\n",
       "      <td>22703.5</td>\n",
       "      <td>231.656</td>\n",
       "      <td>1247.51</td>\n",
       "      <td>22589.8</td>\n",
       "      <td>60.0</td>\n",
       "      <td>-0.146429</td>\n",
       "      <td>722.250</td>\n",
       "      <td>...</td>\n",
       "      <td>16.269801</td>\n",
       "      <td>1</td>\n",
       "      <td>0</td>\n",
       "      <td>3.557917</td>\n",
       "      <td>42.829201</td>\n",
       "      <td>-1.099159</td>\n",
       "      <td>0</td>\n",
       "      <td>0</td>\n",
       "      <td>1</td>\n",
       "      <td>0</td>\n",
       "    </tr>\n",
       "    <tr>\n",
       "      <th>1</th>\n",
       "      <td>0</td>\n",
       "      <td>43640.0</td>\n",
       "      <td>125981.0</td>\n",
       "      <td>22731.9</td>\n",
       "      <td>1409.110</td>\n",
       "      <td>1867.67</td>\n",
       "      <td>24398.8</td>\n",
       "      <td>75.0</td>\n",
       "      <td>0.143361</td>\n",
       "      <td>908.910</td>\n",
       "      <td>...</td>\n",
       "      <td>15.903075</td>\n",
       "      <td>0</td>\n",
       "      <td>0</td>\n",
       "      <td>3.612969</td>\n",
       "      <td>42.828822</td>\n",
       "      <td>-1.076498</td>\n",
       "      <td>0</td>\n",
       "      <td>0</td>\n",
       "      <td>0</td>\n",
       "      <td>1</td>\n",
       "    </tr>\n",
       "    <tr>\n",
       "      <th>2</th>\n",
       "      <td>0</td>\n",
       "      <td>43408.8</td>\n",
       "      <td>125994.0</td>\n",
       "      <td>22744.8</td>\n",
       "      <td>1638.060</td>\n",
       "      <td>1764.24</td>\n",
       "      <td>24625.4</td>\n",
       "      <td>75.0</td>\n",
       "      <td>0.143361</td>\n",
       "      <td>866.390</td>\n",
       "      <td>...</td>\n",
       "      <td>15.903075</td>\n",
       "      <td>0</td>\n",
       "      <td>0</td>\n",
       "      <td>3.612969</td>\n",
       "      <td>42.828775</td>\n",
       "      <td>-1.073665</td>\n",
       "      <td>0</td>\n",
       "      <td>0</td>\n",
       "      <td>0</td>\n",
       "      <td>1</td>\n",
       "    </tr>\n",
       "    <tr>\n",
       "      <th>3</th>\n",
       "      <td>0</td>\n",
       "      <td>44117.6</td>\n",
       "      <td>126188.0</td>\n",
       "      <td>22944.5</td>\n",
       "      <td>1036.000</td>\n",
       "      <td>2072.00</td>\n",
       "      <td>23996.3</td>\n",
       "      <td>60.0</td>\n",
       "      <td>0.143361</td>\n",
       "      <td>800.195</td>\n",
       "      <td>...</td>\n",
       "      <td>16.250570</td>\n",
       "      <td>1</td>\n",
       "      <td>0</td>\n",
       "      <td>3.612969</td>\n",
       "      <td>42.831002</td>\n",
       "      <td>-1.082099</td>\n",
       "      <td>0</td>\n",
       "      <td>0</td>\n",
       "      <td>0</td>\n",
       "      <td>1</td>\n",
       "    </tr>\n",
       "    <tr>\n",
       "      <th>4</th>\n",
       "      <td>0</td>\n",
       "      <td>43886.5</td>\n",
       "      <td>126200.0</td>\n",
       "      <td>22952.7</td>\n",
       "      <td>1247.510</td>\n",
       "      <td>2185.44</td>\n",
       "      <td>24222.2</td>\n",
       "      <td>75.0</td>\n",
       "      <td>0.143361</td>\n",
       "      <td>889.010</td>\n",
       "      <td>...</td>\n",
       "      <td>16.250570</td>\n",
       "      <td>1</td>\n",
       "      <td>0</td>\n",
       "      <td>3.612969</td>\n",
       "      <td>42.830955</td>\n",
       "      <td>-1.079266</td>\n",
       "      <td>0</td>\n",
       "      <td>0</td>\n",
       "      <td>0</td>\n",
       "      <td>1</td>\n",
       "    </tr>\n",
       "  </tbody>\n",
       "</table>\n",
       "<p>5 rows × 30 columns</p>\n",
       "</div>"
      ],
      "text/plain": [
       "   ndvi_trend  EU_conv_tr  EU_hv_tr  EU_mj_road  EU_sec_roa  EU_sett  \\\n",
       "0          -1     44224.5  125893.0     22703.5     231.656  1247.51   \n",
       "1           0     43640.0  125981.0     22731.9    1409.110  1867.67   \n",
       "2           0     43408.8  125994.0     22744.8    1638.060  1764.24   \n",
       "3           0     44117.6  126188.0     22944.5    1036.000  2072.00   \n",
       "4           0     43886.5  126200.0     22952.7    1247.510  2185.44   \n",
       "\n",
       "   EU_fabric  TFCCARB  NOM_FORARB      mdt  ...  temp_mean  trend_sequ  \\\n",
       "0    22589.8     60.0   -0.146429  722.250  ...  16.269801           1   \n",
       "1    24398.8     75.0    0.143361  908.910  ...  15.903075           0   \n",
       "2    24625.4     75.0    0.143361  866.390  ...  15.903075           0   \n",
       "3    23996.3     60.0    0.143361  800.195  ...  16.250570           1   \n",
       "4    24222.2     75.0    0.143361  889.010  ...  16.250570           1   \n",
       "\n",
       "   trend_temp      wind        lat      long  protected  TIPO_BOSQU_C  \\\n",
       "0           0  3.557917  42.829201 -1.099159          0             0   \n",
       "1           0  3.612969  42.828822 -1.076498          0             0   \n",
       "2           0  3.612969  42.828775 -1.073665          0             0   \n",
       "3           0  3.612969  42.831002 -1.082099          0             0   \n",
       "4           0  3.612969  42.830955 -1.079266          0             0   \n",
       "\n",
       "   TIPO_BOSQU_F  TIPO_BOSQU_M  \n",
       "0             1             0  \n",
       "1             0             1  \n",
       "2             0             1  \n",
       "3             0             1  \n",
       "4             0             1  \n",
       "\n",
       "[5 rows x 30 columns]"
      ]
     },
     "execution_count": 13,
     "metadata": {},
     "output_type": "execute_result"
    }
   ],
   "source": [
    "alp_df.head()"
   ]
  },
  {
   "cell_type": "code",
   "execution_count": 14,
   "metadata": {},
   "outputs": [],
   "source": [
    "X_alp = alp_df.drop([\"ndvi_trend\",\"lat\",\"long\"], axis=1)\n",
    "y_alp = alp_df[\"ndvi_trend\"]"
   ]
  },
  {
   "cell_type": "code",
   "execution_count": 54,
   "metadata": {},
   "outputs": [],
   "source": [
    "X_train_alp, X_test_alp, y_train_alp, y_test_alp = train_test_split(X_alp, y_alp, test_size=0.2)"
   ]
  },
  {
   "cell_type": "markdown",
   "metadata": {},
   "source": [
    "### First Approach"
   ]
  },
  {
   "cell_type": "code",
   "execution_count": 74,
   "metadata": {},
   "outputs": [],
   "source": [
    "rf_alp = rf.fit(\n",
    "                X=X_train_alp,\n",
    "                y=y_train_alp)\n",
    "\n",
    "y_pred_alp = rf_alp.predict(X_train_alp)\n",
    "y_pred_alp_test = rf_alp.predict(X_test_alp)\n",
    "\n",
    "ac_score_alp = ac_s(y_train_alp, y_pred_alp)\n",
    "ac_score_test_alp = ac_s(y_test_alp, y_pred_alp_test)"
   ]
  },
  {
   "cell_type": "code",
   "execution_count": 85,
   "metadata": {},
   "outputs": [
    {
     "data": {
      "text/plain": [
       "['data/first_rf_alpine.joblib']"
      ]
     },
     "execution_count": 85,
     "metadata": {},
     "output_type": "execute_result"
    }
   ],
   "source": [
    "dump(rf_alp, \"data/first_rf_alpine.joblib\")"
   ]
  },
  {
   "cell_type": "code",
   "execution_count": 102,
   "metadata": {},
   "outputs": [
    {
     "data": {
      "text/plain": [
       "0.9999380133271346"
      ]
     },
     "execution_count": 102,
     "metadata": {},
     "output_type": "execute_result"
    }
   ],
   "source": [
    "ac_score_alp"
   ]
  },
  {
   "cell_type": "code",
   "execution_count": 104,
   "metadata": {},
   "outputs": [
    {
     "data": {
      "text/plain": [
       "0.8485712514721379"
      ]
     },
     "execution_count": 104,
     "metadata": {},
     "output_type": "execute_result"
    }
   ],
   "source": [
    "ac_score_test_alp"
   ]
  },
  {
   "cell_type": "markdown",
   "metadata": {},
   "source": [
    "Actually, the accuracy score is good. It seems that with this weather data, the prediction fits quite well."
   ]
  },
  {
   "cell_type": "code",
   "execution_count": 79,
   "metadata": {},
   "outputs": [],
   "source": [
    "pred_alp_rf = get_predictions(y_test_alp, y_pred_alp_test)"
   ]
  },
  {
   "cell_type": "code",
   "execution_count": 80,
   "metadata": {
    "scrolled": true
   },
   "outputs": [
    {
     "data": {
      "text/html": [
       "<div>\n",
       "<style scoped>\n",
       "    .dataframe tbody tr th:only-of-type {\n",
       "        vertical-align: middle;\n",
       "    }\n",
       "\n",
       "    .dataframe tbody tr th {\n",
       "        vertical-align: top;\n",
       "    }\n",
       "\n",
       "    .dataframe thead th {\n",
       "        text-align: right;\n",
       "    }\n",
       "</style>\n",
       "<table border=\"1\" class=\"dataframe\">\n",
       "  <thead>\n",
       "    <tr style=\"text-align: right;\">\n",
       "      <th></th>\n",
       "      <th>ndvi_trend</th>\n",
       "      <th>prediction</th>\n",
       "    </tr>\n",
       "  </thead>\n",
       "  <tbody>\n",
       "    <tr>\n",
       "      <th>17738</th>\n",
       "      <td>0</td>\n",
       "      <td>0</td>\n",
       "    </tr>\n",
       "    <tr>\n",
       "      <th>19828</th>\n",
       "      <td>1</td>\n",
       "      <td>0</td>\n",
       "    </tr>\n",
       "    <tr>\n",
       "      <th>38466</th>\n",
       "      <td>0</td>\n",
       "      <td>0</td>\n",
       "    </tr>\n",
       "    <tr>\n",
       "      <th>31094</th>\n",
       "      <td>-1</td>\n",
       "      <td>0</td>\n",
       "    </tr>\n",
       "    <tr>\n",
       "      <th>76976</th>\n",
       "      <td>0</td>\n",
       "      <td>0</td>\n",
       "    </tr>\n",
       "  </tbody>\n",
       "</table>\n",
       "</div>"
      ],
      "text/plain": [
       "       ndvi_trend  prediction\n",
       "17738           0           0\n",
       "19828           1           0\n",
       "38466           0           0\n",
       "31094          -1           0\n",
       "76976           0           0"
      ]
     },
     "execution_count": 80,
     "metadata": {},
     "output_type": "execute_result"
    }
   ],
   "source": [
    "pred_alp_rf.head()"
   ]
  },
  {
   "cell_type": "markdown",
   "metadata": {},
   "source": [
    "### RandomForest with Selected Hiperparameters"
   ]
  },
  {
   "cell_type": "code",
   "execution_count": 49,
   "metadata": {},
   "outputs": [],
   "source": [
    "best_rf_alp = randsearch.best_estimator_"
   ]
  },
  {
   "cell_type": "code",
   "execution_count": 66,
   "metadata": {},
   "outputs": [],
   "source": [
    "rf_best_alp = best_rf_alp.fit(\n",
    "                X=X_train_alp,\n",
    "                y=y_train_alp)\n",
    "\n",
    "yp_alp = rf_best_alp.predict(X_train_alp)\n",
    "yp_alp_test = rf_best_alp.predict(X_test_alp)\n",
    "\n",
    "ac_alp = ac_s(y_train_alp, yp_alp)\n",
    "ac_alp_test = ac_s(y_test_alp, yp_alp_test)"
   ]
  },
  {
   "cell_type": "code",
   "execution_count": 56,
   "metadata": {},
   "outputs": [
    {
     "data": {
      "text/plain": [
       "['data/second_rf_alpine.joblib']"
      ]
     },
     "execution_count": 56,
     "metadata": {},
     "output_type": "execute_result"
    }
   ],
   "source": [
    "dump(rf_best_alp, \"data/second_rf_alpine.joblib\")"
   ]
  },
  {
   "cell_type": "code",
   "execution_count": 67,
   "metadata": {},
   "outputs": [
    {
     "data": {
      "text/plain": [
       "0.7998450333178366"
      ]
     },
     "execution_count": 67,
     "metadata": {},
     "output_type": "execute_result"
    }
   ],
   "source": [
    "ac_alp"
   ]
  },
  {
   "cell_type": "code",
   "execution_count": 68,
   "metadata": {},
   "outputs": [
    {
     "data": {
      "text/plain": [
       "0.8011529163825699"
      ]
     },
     "execution_count": 68,
     "metadata": {},
     "output_type": "execute_result"
    }
   ],
   "source": [
    "ac_alp_test"
   ]
  },
  {
   "cell_type": "markdown",
   "metadata": {},
   "source": [
    "We have a good prediction, but the previous model's score is better."
   ]
  },
  {
   "cell_type": "code",
   "execution_count": 71,
   "metadata": {},
   "outputs": [],
   "source": [
    "pred_alp_rf2 = get_predictions(y_test_alp, yp_alp_test)"
   ]
  },
  {
   "cell_type": "code",
   "execution_count": 72,
   "metadata": {
    "scrolled": true
   },
   "outputs": [
    {
     "data": {
      "text/html": [
       "<div>\n",
       "<style scoped>\n",
       "    .dataframe tbody tr th:only-of-type {\n",
       "        vertical-align: middle;\n",
       "    }\n",
       "\n",
       "    .dataframe tbody tr th {\n",
       "        vertical-align: top;\n",
       "    }\n",
       "\n",
       "    .dataframe thead th {\n",
       "        text-align: right;\n",
       "    }\n",
       "</style>\n",
       "<table border=\"1\" class=\"dataframe\">\n",
       "  <thead>\n",
       "    <tr style=\"text-align: right;\">\n",
       "      <th></th>\n",
       "      <th>ndvi_trend</th>\n",
       "      <th>prediction</th>\n",
       "    </tr>\n",
       "  </thead>\n",
       "  <tbody>\n",
       "    <tr>\n",
       "      <th>17738</th>\n",
       "      <td>0</td>\n",
       "      <td>0</td>\n",
       "    </tr>\n",
       "    <tr>\n",
       "      <th>19828</th>\n",
       "      <td>1</td>\n",
       "      <td>0</td>\n",
       "    </tr>\n",
       "    <tr>\n",
       "      <th>38466</th>\n",
       "      <td>0</td>\n",
       "      <td>0</td>\n",
       "    </tr>\n",
       "    <tr>\n",
       "      <th>31094</th>\n",
       "      <td>-1</td>\n",
       "      <td>0</td>\n",
       "    </tr>\n",
       "    <tr>\n",
       "      <th>76976</th>\n",
       "      <td>0</td>\n",
       "      <td>0</td>\n",
       "    </tr>\n",
       "  </tbody>\n",
       "</table>\n",
       "</div>"
      ],
      "text/plain": [
       "       ndvi_trend  prediction\n",
       "17738           0           0\n",
       "19828           1           0\n",
       "38466           0           0\n",
       "31094          -1           0\n",
       "76976           0           0"
      ]
     },
     "execution_count": 72,
     "metadata": {},
     "output_type": "execute_result"
    }
   ],
   "source": [
    "pred_alp_rf2.head()"
   ]
  },
  {
   "cell_type": "markdown",
   "metadata": {},
   "source": [
    "### Gradient Boosting Classifier"
   ]
  },
  {
   "cell_type": "code",
   "execution_count": 80,
   "metadata": {},
   "outputs": [],
   "source": [
    "gb_alp = grb.fit(\n",
    "                X=X_train_alp,\n",
    "                y=y_train_alp)\n",
    "\n",
    "\n",
    "yp_gb_alp = gb_alp.predict(X_train_alp)\n",
    "yp_gb_alp_test = gb_alp.predict(X_test_alp)\n",
    "\n",
    "ac_gb_alp = ac_s(y_train_alp, yp_gb_alp)\n",
    "ac_gb_alp_test = ac_s(y_test_alp, yp_gb_alp_test)"
   ]
  },
  {
   "cell_type": "code",
   "execution_count": 87,
   "metadata": {},
   "outputs": [
    {
     "data": {
      "text/plain": [
       "['data/grb_alpine.joblib']"
      ]
     },
     "execution_count": 87,
     "metadata": {},
     "output_type": "execute_result"
    }
   ],
   "source": [
    "dump(gb_alp, \"data/grb_alpine.joblib\")"
   ]
  },
  {
   "cell_type": "code",
   "execution_count": 107,
   "metadata": {},
   "outputs": [
    {
     "data": {
      "text/plain": [
       "0.8291647295831396"
      ]
     },
     "execution_count": 107,
     "metadata": {},
     "output_type": "execute_result"
    }
   ],
   "source": [
    "ac_gb_alp"
   ]
  },
  {
   "cell_type": "code",
   "execution_count": 108,
   "metadata": {},
   "outputs": [
    {
     "data": {
      "text/plain": [
       "0.8289220851670489"
      ]
     },
     "execution_count": 108,
     "metadata": {},
     "output_type": "execute_result"
    }
   ],
   "source": [
    "ac_gb_alp_test"
   ]
  },
  {
   "cell_type": "markdown",
   "metadata": {},
   "source": [
    "In this case, it again lags behind the first model and outperforms the second, but in the latter climate, the three scores are quite similar."
   ]
  },
  {
   "cell_type": "code",
   "execution_count": 149,
   "metadata": {},
   "outputs": [],
   "source": [
    "pred_alp_grb = get_predictions(y_test_al, yp_gb_alp_test)"
   ]
  },
  {
   "cell_type": "code",
   "execution_count": 150,
   "metadata": {
    "scrolled": true
   },
   "outputs": [
    {
     "data": {
      "text/html": [
       "<div>\n",
       "<style scoped>\n",
       "    .dataframe tbody tr th:only-of-type {\n",
       "        vertical-align: middle;\n",
       "    }\n",
       "\n",
       "    .dataframe tbody tr th {\n",
       "        vertical-align: top;\n",
       "    }\n",
       "\n",
       "    .dataframe thead th {\n",
       "        text-align: right;\n",
       "    }\n",
       "</style>\n",
       "<table border=\"1\" class=\"dataframe\">\n",
       "  <thead>\n",
       "    <tr style=\"text-align: right;\">\n",
       "      <th></th>\n",
       "      <th>ndvi_trend</th>\n",
       "      <th>prediction</th>\n",
       "    </tr>\n",
       "  </thead>\n",
       "  <tbody>\n",
       "    <tr>\n",
       "      <th>18848</th>\n",
       "      <td>1</td>\n",
       "      <td>0</td>\n",
       "    </tr>\n",
       "    <tr>\n",
       "      <th>43575</th>\n",
       "      <td>0</td>\n",
       "      <td>0</td>\n",
       "    </tr>\n",
       "    <tr>\n",
       "      <th>78753</th>\n",
       "      <td>0</td>\n",
       "      <td>0</td>\n",
       "    </tr>\n",
       "    <tr>\n",
       "      <th>14792</th>\n",
       "      <td>0</td>\n",
       "      <td>0</td>\n",
       "    </tr>\n",
       "    <tr>\n",
       "      <th>48665</th>\n",
       "      <td>0</td>\n",
       "      <td>0</td>\n",
       "    </tr>\n",
       "  </tbody>\n",
       "</table>\n",
       "</div>"
      ],
      "text/plain": [
       "       ndvi_trend  prediction\n",
       "18848           1           0\n",
       "43575           0           0\n",
       "78753           0           0\n",
       "14792           0           0\n",
       "48665           0           0"
      ]
     },
     "execution_count": 150,
     "metadata": {},
     "output_type": "execute_result"
    }
   ],
   "source": [
    "pred_alp_grb.head()"
   ]
  },
  {
   "cell_type": "markdown",
   "metadata": {},
   "source": [
    "# Select Model "
   ]
  },
  {
   "cell_type": "markdown",
   "metadata": {},
   "source": [
    "To select the model we will compare the accuracy scores of each model for each climate.\n",
    "\n",
    "To get a visual perspective, let's look at it in a DataFrame."
   ]
  },
  {
   "cell_type": "code",
   "execution_count": 112,
   "metadata": {},
   "outputs": [],
   "source": [
    "# Create a DataFrame with acurracy scores.\n",
    "df_score = pd.DataFrame(index = [\"Mediterranean\", \"Atlantic\", \"Alpine\"], data={\n",
    "                    \"RandomForest\":[ac_score_test_m, ac_score_test_a, ac_score_test_alp],\n",
    "                    \"RandomForest_Sel_Hip\":[ac_med_test, ac_atl_test, ac_alp_test],\n",
    "                    \"GradientBoosting\":[ac_gb_med_test, ac_gb_atl_test, ac_gb_alp_test]})"
   ]
  },
  {
   "cell_type": "code",
   "execution_count": 113,
   "metadata": {},
   "outputs": [
    {
     "data": {
      "text/html": [
       "<div>\n",
       "<style scoped>\n",
       "    .dataframe tbody tr th:only-of-type {\n",
       "        vertical-align: middle;\n",
       "    }\n",
       "\n",
       "    .dataframe tbody tr th {\n",
       "        vertical-align: top;\n",
       "    }\n",
       "\n",
       "    .dataframe thead th {\n",
       "        text-align: right;\n",
       "    }\n",
       "</style>\n",
       "<table border=\"1\" class=\"dataframe\">\n",
       "  <thead>\n",
       "    <tr style=\"text-align: right;\">\n",
       "      <th></th>\n",
       "      <th>RandomForest</th>\n",
       "      <th>RandomForest_Sel_Hip</th>\n",
       "      <th>GradientBoosting</th>\n",
       "    </tr>\n",
       "  </thead>\n",
       "  <tbody>\n",
       "    <tr>\n",
       "      <th>Mediterranean</th>\n",
       "      <td>0.782360</td>\n",
       "      <td>0.607571</td>\n",
       "      <td>0.655806</td>\n",
       "    </tr>\n",
       "    <tr>\n",
       "      <th>Atlantic</th>\n",
       "      <td>0.815890</td>\n",
       "      <td>0.740524</td>\n",
       "      <td>0.766653</td>\n",
       "    </tr>\n",
       "    <tr>\n",
       "      <th>Alpine</th>\n",
       "      <td>0.848571</td>\n",
       "      <td>0.801153</td>\n",
       "      <td>0.828922</td>\n",
       "    </tr>\n",
       "  </tbody>\n",
       "</table>\n",
       "</div>"
      ],
      "text/plain": [
       "               RandomForest  RandomForest_Sel_Hip  GradientBoosting\n",
       "Mediterranean      0.782360              0.607571          0.655806\n",
       "Atlantic           0.815890              0.740524          0.766653\n",
       "Alpine             0.848571              0.801153          0.828922"
      ]
     },
     "execution_count": 113,
     "metadata": {},
     "output_type": "execute_result"
    }
   ],
   "source": [
    "# Check data\n",
    "df_score"
   ]
  },
  {
   "cell_type": "markdown",
   "metadata": {},
   "source": [
    "We can see that in all climates, the best prediction model is RandomForest.\n",
    "\n",
    "It can also be seen that for the Mediterranean climate the scores are farther apart from each other. This difference is reduced in the Atlantic climate and is almost null in the Alpine climate."
   ]
  },
  {
   "cell_type": "markdown",
   "metadata": {},
   "source": [
    "This can best be seen in a bar chart."
   ]
  },
  {
   "cell_type": "code",
   "execution_count": 176,
   "metadata": {},
   "outputs": [
    {
     "data": {
      "text/plain": [
       "<matplotlib.legend.Legend at 0x2392dbda520>"
      ]
     },
     "execution_count": 176,
     "metadata": {},
     "output_type": "execute_result"
    },
    {
     "data": {
      "image/png": "[encoded data removed]",
      "text/plain": [
       "<Figure size 432x288 with 1 Axes>"
      ]
     },
     "metadata": {
      "needs_background": "light"
     },
     "output_type": "display_data"
    }
   ],
   "source": [
    "fig, ax = plt.subplots()\n",
    "# Set the figure\n",
    "x = np.arange(len(df_score.index))\n",
    "bar1 = ax.bar(x-0.25/2,df_score[\"RandomForest\"], width=0.25, label=df_score.columns[0])\n",
    "bar2 = ax.bar(x+0.25/2,df_score[\"RandomForest_Sel_Hip\"], width=0.25, label=df_score.columns[1])\n",
    "bar3 = ax.bar(x-0.37,df_score[\"GradientBoosting\"], width=0.25, label=df_score.columns[2])\n",
    "# Set the graphic\n",
    "\n",
    "ax.set_ylabel(\"Scores\")\n",
    "ax.set_title(\"Accuracy Scores by Model\")\n",
    "ax.set_xticks(x)\n",
    "ax.set_xticklabels(df_score.index)\n",
    "# Set labels\n",
    "ax.legend(loc=\"best\", bbox_to_anchor=(1.0, 0.2, 0.5, 0.5))\n",
    "# Set legend position"
   ]
  },
  {
   "cell_type": "markdown",
   "metadata": {},
   "source": [
    "Looking at this data, we end up selecting the RandomForest model."
   ]
  },
  {
   "cell_type": "markdown",
   "metadata": {},
   "source": [
    "# Balance Data"
   ]
  },
  {
   "cell_type": "markdown",
   "metadata": {},
   "source": [
    "Looking at the DataFrame, we have been able to observe that there is a difference in level with respect to the response variable, where the value of the 0s is much greater than the value of the 1s and -1s. \n",
    "This aspect may influence our prediction."
   ]
  },
  {
   "cell_type": "code",
   "execution_count": 198,
   "metadata": {},
   "outputs": [],
   "source": [
    "# Import complete DataFrame.\n",
    "forest = pd.read_csv(\"data/clean_forest_visualization.csv\")"
   ]
  },
  {
   "cell_type": "code",
   "execution_count": 199,
   "metadata": {
    "scrolled": true
   },
   "outputs": [
    {
     "data": {
      "text/plain": [
       "<AxesSubplot:xlabel='ndvi_trend', ylabel='count'>"
      ]
     },
     "execution_count": 199,
     "metadata": {},
     "output_type": "execute_result"
    },
    {
     "data": {
      "image/png": "[encoded data removed]",
      "text/plain": [
       "<Figure size 432x288 with 1 Axes>"
      ]
     },
     "metadata": {
      "needs_background": "light"
     },
     "output_type": "display_data"
    }
   ],
   "source": [
    "# Plot the response variable.\n",
    "sns.countplot(data=forest, x=\"ndvi_trend\")"
   ]
  },
  {
   "cell_type": "markdown",
   "metadata": {},
   "source": [
    "With this graph, it is evident that there is a sway, which can lead to data with lower frequency not being detrimental at the time of prediction. Let's see this numerical.\n",
    "\n",
    "Doc: https://docs.python.org/3/library/collections.html"
   ]
  },
  {
   "cell_type": "code",
   "execution_count": 200,
   "metadata": {},
   "outputs": [
    {
     "name": "stdout",
     "output_type": "stream",
     "text": [
      "Counter({0: 749890, -1: 283003, 1: 144661})\n"
     ]
    }
   ],
   "source": [
    "# Get a numeric counter about values of response variable.\n",
    "counter = Counter(forest.ndvi_trend)\n",
    "print(counter)"
   ]
  },
  {
   "cell_type": "code",
   "execution_count": 220,
   "metadata": {},
   "outputs": [
    {
     "data": {
      "text/plain": [
       "{'y_med': Counter({0: 459866, -1: 203197, 1: 117905}),\n",
       " 'y_atl': Counter({0: 225485, 1: 15749, -1: 74689}),\n",
       " 'y_alp': Counter({-1: 5117, 0: 64539, 1: 11007})}"
      ]
     },
     "execution_count": 220,
     "metadata": {},
     "output_type": "execute_result"
    }
   ],
   "source": [
    "# Get a numeric counter about values of response variable for each climate.\n",
    "counts = {i:Counter(z) for (i,z) in {\"y_med\":y_med, \"y_atl\":y_atl, \"y_alp\":y_alp}.items()}\n",
    "counts"
   ]
  },
  {
   "cell_type": "markdown",
   "metadata": {},
   "source": [
    "To have a percentage of data without passing through the model, and to be able to check the effectiveness of the model prediction, we will divide the DataFrames in two, one \"train\" that we will pass to the model, and another \"test\" that we will not pass, so the model will not have a record of this data, and will give us a view of the effectiveness of the model. The division will be 0.8 for the train, and 0.2 for the test."
   ]
  },
  {
   "cell_type": "code",
   "execution_count": 9,
   "metadata": {},
   "outputs": [],
   "source": [
    "train_med = med_df[:624_968]\n",
    "test_med = med_df[624_968:]"
   ]
  },
  {
   "cell_type": "code",
   "execution_count": 13,
   "metadata": {},
   "outputs": [
    {
     "data": {
      "text/plain": [
       "(80663, 30)"
      ]
     },
     "execution_count": 13,
     "metadata": {},
     "output_type": "execute_result"
    }
   ],
   "source": [
    "alp_df.shape"
   ]
  },
  {
   "cell_type": "code",
   "execution_count": 12,
   "metadata": {},
   "outputs": [],
   "source": [
    "train_atl = atl_df[:251_373]\n",
    "test_atl = atl_df[251_373:]"
   ]
  },
  {
   "cell_type": "code",
   "execution_count": 14,
   "metadata": {},
   "outputs": [],
   "source": [
    "train_alp = alp_df[:64_000]\n",
    "test_alp = alp_df[64_000:]"
   ]
  },
  {
   "cell_type": "markdown",
   "metadata": {},
   "source": [
    "Split by X(predictors) and y(response)"
   ]
  },
  {
   "cell_type": "code",
   "execution_count": 17,
   "metadata": {},
   "outputs": [],
   "source": [
    "Xtrain_med = train_med.drop(\"ndvi_trend\", axis=1)\n",
    "Xtrain_atl = train_atl.drop(\"ndvi_trend\", axis=1)\n",
    "Xtrain_alp = train_alp.drop(\"ndvi_trend\", axis=1)\n",
    "ytrain_med = train_med[\"ndvi_trend\"]\n",
    "ytrain_atl = train_atl[\"ndvi_trend\"]\n",
    "ytrain_alp = train_alp[\"ndvi_trend\"]"
   ]
  },
  {
   "cell_type": "markdown",
   "metadata": {},
   "source": [
    "We will balance the data by using the `SMOTE` model, which will balance the data so that there is not so much difference between the values of y and adjust the values of X accordingly.\n",
    "\n",
    "Doc:https://imbalanced-learn.org/stable/user_guide.html#user-guide"
   ]
  },
  {
   "cell_type": "code",
   "execution_count": 15,
   "metadata": {},
   "outputs": [],
   "source": [
    "# Set model to a variable.\n",
    "oversample = SMOTE()"
   ]
  },
  {
   "cell_type": "code",
   "execution_count": 20,
   "metadata": {},
   "outputs": [],
   "source": [
    "# Fit each DataFrame\n",
    "X_b_med, y_b_med = oversample.fit_resample(Xtrain_med, ytrain_med)\n",
    "X_b_atl, y_b_atl = oversample.fit_resample(Xtrain_atl, ytrain_atl)\n",
    "X_b_alp, y_b_alp = oversample.fit_resample(Xtrain_alp, ytrain_alp)"
   ]
  },
  {
   "cell_type": "markdown",
   "metadata": {},
   "source": [
    "## Mediterranean Climate"
   ]
  },
  {
   "cell_type": "markdown",
   "metadata": {},
   "source": [
    "Once the data has been balanced, we proceed to the training of the previously selected model."
   ]
  },
  {
   "cell_type": "code",
   "execution_count": 21,
   "metadata": {},
   "outputs": [],
   "source": [
    "X_train_bmed, X_test_bmed, y_train_bmed, y_test_bmed = train_test_split(X_b_med, y_b_med, test_size=0.2)\n",
    "\n",
    "rf_b_med = RandomForestClassifier().fit(X=X_train_bmed, y=y_train_bmed)\n",
    "\n",
    "dump(rf_b_med, \"data/final_rf_med.joblib\")\n",
    "\n",
    "y_b_predmed = rf_b_med.predict(X_train_bmed)\n",
    "y_b_predmed_test = rf_b_med.predict(X_test_bmed)"
   ]
  },
  {
   "cell_type": "code",
   "execution_count": 264,
   "metadata": {},
   "outputs": [],
   "source": [
    "ac_yb_med = ac_s(y_train_bmed, y_b_predmed)\n",
    "ac_yb_med_test = ac_s(y_test_bmed, y_b_predmed_test)"
   ]
  },
  {
   "cell_type": "code",
   "execution_count": 265,
   "metadata": {},
   "outputs": [
    {
     "data": {
      "text/plain": [
       "(0.9999900333249372, 0.87881269933314)"
      ]
     },
     "execution_count": 265,
     "metadata": {},
     "output_type": "execute_result"
    }
   ],
   "source": [
    "ac_yb_med, ac_yb_med_test"
   ]
  },
  {
   "cell_type": "markdown",
   "metadata": {},
   "source": [
    "Accuracy scores are significantly better now than in the previous model."
   ]
  },
  {
   "cell_type": "markdown",
   "metadata": {},
   "source": [
    "## Atlantic Climate"
   ]
  },
  {
   "cell_type": "code",
   "execution_count": 274,
   "metadata": {},
   "outputs": [],
   "source": [
    "X_train_batl, X_test_batl, y_train_batl, y_test_batl = train_test_split(X_b_atl, y_b_atl, test_size=0.2)\n",
    "\n",
    "rf_b_atl = RandomForestClassifier().fit(X=X_train_batl, y=y_train_batl)\n",
    "\n",
    "dump(rf_b_atl, \"data/final_rf_atl.joblib\")\n",
    "\n",
    "y_b_predatl = rf_b_atl.predict(X_train_batl)\n",
    "y_b_predatl_test = rf_b_atl.predict(X_test_batl)"
   ]
  },
  {
   "cell_type": "code",
   "execution_count": 275,
   "metadata": {},
   "outputs": [],
   "source": [
    "ac_yb_atl = ac_s(y_train_batl, y_b_predatl)\n",
    "ac_yb_atl_test = ac_s(y_test_batl, y_b_predatl_test)"
   ]
  },
  {
   "cell_type": "code",
   "execution_count": 276,
   "metadata": {},
   "outputs": [
    {
     "data": {
      "text/plain": [
       "(0.9999981521313317, 0.9169124331995476)"
      ]
     },
     "execution_count": 276,
     "metadata": {},
     "output_type": "execute_result"
    }
   ],
   "source": [
    "ac_yb_atl, ac_yb_atl_test"
   ]
  },
  {
   "cell_type": "markdown",
   "metadata": {},
   "source": [
    "## Alpine Climate"
   ]
  },
  {
   "cell_type": "code",
   "execution_count": 269,
   "metadata": {},
   "outputs": [],
   "source": [
    "X_train_balp, X_test_balp, y_train_balp, y_test_balp = train_test_split(X_b_alp, y_b_alp, test_size=0.2)\n",
    "\n",
    "rf_b_alp = RandomForestClassifier().fit(X=X_train_balp, y=y_train_balp)\n",
    "\n",
    "dump(rf_b_alp, \"data/final_rf_alp.joblib\")\n",
    "\n",
    "y_b_predalp = rf_b_alp.predict(X_train_balp)\n",
    "y_b_predalp_test = rf_b_alp.predict(X_test_balp)"
   ]
  },
  {
   "cell_type": "code",
   "execution_count": 277,
   "metadata": {},
   "outputs": [],
   "source": [
    "ac_yb_alp = ac_s(y_train_balp, y_b_predalp)\n",
    "ac_yb_alp_test = ac_s(y_test_balp, y_b_predalp_test)"
   ]
  },
  {
   "cell_type": "code",
   "execution_count": 278,
   "metadata": {},
   "outputs": [
    {
     "data": {
      "text/plain": [
       "(1.0, 0.9392624728850325)"
      ]
     },
     "execution_count": 278,
     "metadata": {},
     "output_type": "execute_result"
    }
   ],
   "source": [
    "ac_yb_alp, ac_yb_alp_test"
   ]
  },
  {
   "cell_type": "markdown",
   "metadata": {},
   "source": [
    "In all models, we see an increase in the accuracy score, with all three climates exceeding 0.9."
   ]
  },
  {
   "cell_type": "markdown",
   "metadata": {},
   "source": [
    "# Importance"
   ]
  },
  {
   "cell_type": "markdown",
   "metadata": {},
   "source": [
    "## Mediterranean Climate"
   ]
  },
  {
   "cell_type": "markdown",
   "metadata": {},
   "source": [
    "Now, once the model has been established, we want to check which variables have had the most influence on the prediction. To do this, we use the `.feature_importances_` method in each method."
   ]
  },
  {
   "cell_type": "code",
   "execution_count": 288,
   "metadata": {},
   "outputs": [
    {
     "data": {
      "text/plain": [
       "array([0.05311085, 0.06644591, 0.05231824, 0.04107406, 0.04378017,\n",
       "       0.05131069, 0.04257995, 0.03568603, 0.05467344, 0.03590113,\n",
       "       0.01687829, 0.03328661, 0.0575309 , 0.04954331, 0.04021678,\n",
       "       0.02942441, 0.03364313, 0.04591642, 0.05321602, 0.05554639,\n",
       "       0.03482148, 0.00634274, 0.03867215, 0.00121939, 0.00676738,\n",
       "       0.01589551, 0.00419862])"
      ]
     },
     "execution_count": 288,
     "metadata": {},
     "output_type": "execute_result"
    }
   ],
   "source": [
    "# Get features importances\n",
    "rf_b_med.feature_importances_"
   ]
  },
  {
   "cell_type": "code",
   "execution_count": 319,
   "metadata": {},
   "outputs": [
    {
     "data": {
      "text/plain": [
       "<BarContainer object of 27 artists>"
      ]
     },
     "execution_count": 319,
     "metadata": {},
     "output_type": "execute_result"
    },
    {
     "data": {
      "image/png": "[encoded data removed]",
      "text/plain": [
       "<Figure size 1080x1080 with 1 Axes>"
      ]
     },
     "metadata": {
      "needs_background": "light"
     },
     "output_type": "display_data"
    }
   ],
   "source": [
    "# This function plots sorted features_importances\n",
    "plot_importances(rf_b_med, X_b_med)"
   ]
  },
  {
   "cell_type": "markdown",
   "metadata": {},
   "source": [
    "## Atlantic Climate"
   ]
  },
  {
   "cell_type": "code",
   "execution_count": 286,
   "metadata": {},
   "outputs": [
    {
     "data": {
      "text/plain": [
       "array([0.047454  , 0.08061323, 0.0466099 , 0.03635337, 0.03978476,\n",
       "       0.04817419, 0.03468963, 0.05956823, 0.04654689, 0.03799023,\n",
       "       0.01063772, 0.03663703, 0.03726013, 0.04016481, 0.03398596,\n",
       "       0.02859565, 0.04484689, 0.04768217, 0.05276506, 0.03828753,\n",
       "       0.04039895, 0.00616914, 0.04276617, 0.00061496, 0.00955017,\n",
       "       0.04572722, 0.00612601])"
      ]
     },
     "execution_count": 286,
     "metadata": {},
     "output_type": "execute_result"
    }
   ],
   "source": [
    "rf_b_atl.feature_importances_"
   ]
  },
  {
   "cell_type": "code",
   "execution_count": 318,
   "metadata": {},
   "outputs": [
    {
     "data": {
      "text/plain": [
       "<BarContainer object of 27 artists>"
      ]
     },
     "execution_count": 318,
     "metadata": {},
     "output_type": "execute_result"
    },
    {
     "data": {
      "image/png": "[encoded data removed]",
      "text/plain": [
       "<Figure size 1080x1080 with 1 Axes>"
      ]
     },
     "metadata": {
      "needs_background": "light"
     },
     "output_type": "display_data"
    }
   ],
   "source": [
    "plot_importances(rf_b_atl, X_b_atl)"
   ]
  },
  {
   "cell_type": "markdown",
   "metadata": {},
   "source": [
    "## Alpine Climate"
   ]
  },
  {
   "cell_type": "code",
   "execution_count": 298,
   "metadata": {},
   "outputs": [
    {
     "data": {
      "text/plain": [
       "array([0.05245028, 0.0620029 , 0.04883096, 0.04179941, 0.04043042,\n",
       "       0.04966834, 0.05560933, 0.02367531, 0.07195971, 0.06849311,\n",
       "       0.02280499, 0.02835626, 0.0383643 , 0.06031691, 0.03538455,\n",
       "       0.03732564, 0.04097307, 0.03632872, 0.04886472, 0.04797479,\n",
       "       0.00733662, 0.00116844, 0.05821631, 0.00059153, 0.00570524,\n",
       "       0.01264675, 0.00272136])"
      ]
     },
     "execution_count": 298,
     "metadata": {},
     "output_type": "execute_result"
    }
   ],
   "source": [
    "rf_b_alp.feature_importances_"
   ]
  },
  {
   "cell_type": "code",
   "execution_count": 317,
   "metadata": {},
   "outputs": [
    {
     "data": {
      "text/plain": [
       "<BarContainer object of 27 artists>"
      ]
     },
     "execution_count": 317,
     "metadata": {},
     "output_type": "execute_result"
    },
    {
     "data": {
      "image/png": "[encoded data removed]",
      "text/plain": [
       "<Figure size 1080x1080 with 1 Axes>"
      ]
     },
     "metadata": {
      "needs_background": "light"
     },
     "output_type": "display_data"
    }
   ],
   "source": [
    "plot_importances(rf_b_alp, X_b_alp)"
   ]
  },
  {
   "cell_type": "markdown",
   "metadata": {},
   "source": [
    "# Partial Plots"
   ]
  },
  {
   "cell_type": "markdown",
   "metadata": {},
   "source": [
    "Having the two most important features of each climate, we can plot partial dependences plots to see the value of the influence of the variable at each value of the variable on the response variable."
   ]
  },
  {
   "cell_type": "markdown",
   "metadata": {},
   "source": [
    "## Alpine Climate"
   ]
  },
  {
   "cell_type": "code",
   "execution_count": 326,
   "metadata": {
    "scrolled": true
   },
   "outputs": [
    {
     "data": {
      "text/plain": [
       "<sklearn.inspection._plot.partial_dependence.PartialDependenceDisplay at 0x239bd2c2d30>"
      ]
     },
     "execution_count": 326,
     "metadata": {},
     "output_type": "execute_result"
    },
    {
     "data": {
      "image/png": "[encoded data removed]",
      "text/plain": [
       "<Figure size 432x288 with 4 Axes>"
      ]
     },
     "metadata": {
      "needs_background": "light"
     },
     "output_type": "display_data"
    }
   ],
   "source": [
    "plot_partial_dependence(estimator=rf_b_alp, X=X_test_balp, features=[8, 9,(8,9)], target=0, n_jobs=-1)"
   ]
  },
  {
   "cell_type": "code",
   "execution_count": null,
   "metadata": {},
   "outputs": [],
   "source": []
  }
 ],
 "metadata": {
  "kernelspec": {
   "display_name": "Python 3",
   "language": "python",
   "name": "python3"
  },
  "language_info": {
   "codemirror_mode": {
    "name": "ipython",
    "version": 3
   },
   "file_extension": ".py",
   "mimetype": "text/x-python",
   "name": "python",
   "nbconvert_exporter": "python",
   "pygments_lexer": "ipython3",
   "version": "3.8.5"
  },
  "toc": {
   "base_numbering": 1,
   "nav_menu": {},
   "number_sections": true,
   "sideBar": true,
   "skip_h1_title": false,
   "title_cell": "Table of Contents",
   "title_sidebar": "Contents",
   "toc_cell": true,
   "toc_position": {
    "height": "calc(100% - 180px)",
    "left": "10px",
    "top": "150px",
    "width": "273.188px"
   },
   "toc_section_display": true,
   "toc_window_display": true
  },
  "varInspector": {
   "cols": {
    "lenName": 16,
    "lenType": 16,
    "lenVar": 40
   },
   "kernels_config": {
    "python": {
     "delete_cmd_postfix": "",
     "delete_cmd_prefix": "del ",
     "library": "var_list.py",
     "varRefreshCmd": "print(var_dic_list())"
    },
    "r": {
     "delete_cmd_postfix": ") ",
     "delete_cmd_prefix": "rm(",
     "library": "var_list.r",
     "varRefreshCmd": "cat(var_dic_list()) "
    }
   },
   "types_to_exclude": [
    "module",
    "function",
    "builtin_function_or_method",
    "instance",
    "_Feature"
   ],
   "window_display": false
  }
 },
 "nbformat": 4,
 "nbformat_minor": 4
}
